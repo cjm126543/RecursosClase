{
  "cells": [
    {
      "cell_type": "code",
      "execution_count": 6,
      "metadata": {
        "id": "adlGIfRRHFPS"
      },
      "outputs": [],
      "source": [
        "# Import necessary libraries\n",
        "import sympy as sp\n",
        "import numpy as np\n",
        "import matplotlib.pyplot as plt"
      ]
    },
    {
      "cell_type": "markdown",
      "metadata": {
        "id": "tfDWL5J4HFPi"
      },
      "source": [
        "# 1. Métodos Regula-Falsi y Secante"
      ]
    },
    {
      "cell_type": "markdown",
      "metadata": {
        "id": "6qFXl9SzHFPl"
      },
      "source": [
        "Implementa el método Regula-Falsi tal que, dado un intervalo $[a, b]$ donde $f(a)f(b) < 0$, encuentra una raiz $p \\in [a, b]$:"
      ]
    },
    {
      "cell_type": "code",
      "execution_count": 37,
      "metadata": {
        "id": "Ijj-1xsnHFPt"
      },
      "outputs": [],
      "source": [
        "def regula_falsi(f, a, b, x):\n",
        "    \n",
        "    # Inicializar la variable\n",
        "    p = a\n",
        "    tol = 0.001\n",
        "    \n",
        "    if f.subs(x, a) * f.subs(x, b) >= 0:\n",
        "        print(\"No se puede calcular en el intervalo [{}, {}]\".format(a, b))\n",
        "        return None\n",
        "    \n",
        "    while abs(f.subs(x, p)) > tol:\n",
        "        p = a - ((f.subs(x, a) * (b - a)) / (f.subs(x, b) - f.subs(x, a)))\n",
        "        if f.subs(x, p) * f.subs(x, b) < 0:\n",
        "            b = p\n",
        "        else:\n",
        "            a = p\n",
        "    \n",
        "    print(\"RF: La raiz de f = {} es {} con valor f({})={}\".format(f, p, p, f.subs(x, p)))\n",
        "    return p"
      ]
    },
    {
      "cell_type": "markdown",
      "metadata": {
        "id": "7ZuNIyt3HFP2"
      },
      "source": [
        "Implementa el método de la Secante, tal que dados dos números iniciales $p_0$ and $p_1$, devuelve una raiz $p$:"
      ]
    },
    {
      "cell_type": "code",
      "execution_count": 30,
      "metadata": {
        "id": "hBhTvjFbHFP3"
      },
      "outputs": [],
      "source": [
        "def secant(f, p_0, p_1, x):\n",
        "    \n",
        "    # Inicializar variable\n",
        "    p_n = p_0\n",
        "    tol = 0.001\n",
        "    \n",
        "    if f.subs(x, p_0) * f.subs(x, p_1) >= 0:\n",
        "        print(\"No se puede clacular en el intervalo [{}, {}]\".format(p_0, p_1))\n",
        "        return None\n",
        "    \n",
        "    while f.subs(x, p_n) > tol:\n",
        "        p_n = p_1 - ((f.subs(x, p_1) * (p_0 - p_1)) / (f.subs(x, p_0) - f.subs(x, p_1)))\n",
        "        p_0 = p_1\n",
        "        p_1 = p_n\n",
        "    \n",
        "    print(\"S: La raiz de f = {} es {} con valor f({})={}\".format(f, p_n, p_n, f.subs(x, p_n)))\n",
        "    return p_n"
      ]
    },
    {
      "cell_type": "markdown",
      "metadata": {
        "id": "WblPAj13HFP5"
      },
      "source": [
        "# 2. Convergencia del método de la secante"
      ]
    },
    {
      "cell_type": "markdown",
      "metadata": {
        "id": "6lZ8VM8eHFP8"
      },
      "source": [
        "### Nociones básicas de simpy"
      ]
    },
    {
      "cell_type": "markdown",
      "metadata": {
        "id": "_k2M7H-hHFP-"
      },
      "source": [
        "Representar una función"
      ]
    },
    {
      "cell_type": "code",
      "execution_count": 8,
      "metadata": {
        "colab": {
          "base_uri": "https://localhost:8080/",
          "height": 38
        },
        "id": "KYSJxN7iHFQC",
        "outputId": "06d114b9-8982-491e-ac41-32e6b87b03f4"
      },
      "outputs": [
        {
          "data": {
            "text/latex": [
              "$\\displaystyle x^{2} \\cos{\\left(x \\right)} + 2 x \\sin{\\left(x \\right)}$"
            ],
            "text/plain": [
              "x**2*cos(x) + 2*x*sin(x)"
            ]
          },
          "execution_count": 8,
          "metadata": {},
          "output_type": "execute_result"
        }
      ],
      "source": [
        "x = sp.Symbol('x') # Guardar x como símbolo\n",
        "f = x**2*sp.sin(x) # introducir la funcion dependiente de x f(x)\n",
        "sp.diff(f,x) # derivada de f(x)"
      ]
    },
    {
      "cell_type": "code",
      "execution_count": 9,
      "metadata": {
        "colab": {
          "base_uri": "https://localhost:8080/",
          "height": 38
        },
        "id": "L3sMpHWILMK2",
        "outputId": "6151016d-dfdd-41b5-d61b-1a77f6a6088a"
      },
      "outputs": [
        {
          "data": {
            "text/latex": [
              "$\\displaystyle \\left[-0.25, 0.25\\right]$"
            ],
            "text/plain": [
              "Interval(-0.250000000000000, 0.250000000000000)"
            ]
          },
          "execution_count": 9,
          "metadata": {},
          "output_type": "execute_result"
        }
      ],
      "source": [
        "I = sp.Interval(-1/4,1/4)\n",
        "I"
      ]
    },
    {
      "cell_type": "markdown",
      "metadata": {
        "id": "1i0dkdmGHFQW"
      },
      "source": [
        "Programa una función la cual es capaz de, dada una función $f(x)$ con una raiz $p \\in [p_0-\\delta, p_0+\\delta]$ si el método de la secante es capaz de encontrar $p$.\n",
        "\n",
        "**Nota**: \n",
        "\n",
        "* Puedes calcular la derivada de una función $f$ utilizando la librería simpy.\n",
        "\n",
        "* Puedes ver un [ejemplo detallado en la documentación de simpy](https://docs.sympy.org/latest/tutorials/intro-tutorial/calculus.html).\n",
        "\n",
        "* Puedes ver si una función $f$ es continua en un dominio mediante la función [`continuous_domain`](https://docs.sympy.org/latest/modules/calculus/index.html#sympy.calculus.util.continuous_domain) de simpy: `continuous_domain` devuelve el intervalo (si es continuo en todo el intervalo) o la unión de intervalos en las que es continua."
      ]
    },
    {
      "cell_type": "code",
      "execution_count": 35,
      "metadata": {
        "id": "l0Y-GqDsHFQf"
      },
      "outputs": [],
      "source": [
        "from sympy.calculus.util import continuous_domain\n",
        "def convergence_secant(f, p_0, delta, x):\n",
        "    f_der = sp.diff(f, x)\n",
        "    interval = sp.Interval(p_0 - delta, p_0 + delta)\n",
        "    der_2_interval = continuous_domain(sp.diff(f_der, x), x, interval)\n",
        "    \n",
        "    if der_2_interval == interval and f.subs(x, p_0) == 0 and f_der.subs(x, p) != 0:\n",
        "        return secant(f, p_0 - delta, p_0 + delta, x)\n",
        "    else:\n",
        "        return regula_falsi(f, p_0 - delta, p_0 + delta, x)"
      ]
    },
    {
      "cell_type": "code",
      "execution_count": 36,
      "metadata": {
        "id": "mCyaGtjHHFQk"
      },
      "outputs": [
        {
          "name": "stdout",
          "output_type": "stream",
          "text": [
            "RF: La raiz de f = 2.3*x**5 + 2.3*x**4 + 3.2*x + 3.2 es -1.00000000000000 con valor f(-1.00000000000000)=0\n",
            "-1.00000000000000\n"
          ]
        }
      ],
      "source": [
        "f1 = 2.3 * x**5 + 2.3 * x**4 + 3.2 * x + 3.2\n",
        "print(convergence_secant(f1, 0, 5, x))"
      ]
    },
    {
      "cell_type": "code",
      "execution_count": 14,
      "metadata": {
        "id": "2JqcMeHDHFQu",
        "outputId": "dad4d1fc-6555-4124-a7f4-aebf37571a92"
      },
      "outputs": [
        {
          "data": {
            "text/plain": [
              "[<matplotlib.lines.Line2D at 0x7fe3a158fb80>]"
            ]
          },
          "execution_count": 14,
          "metadata": {},
          "output_type": "execute_result"
        },
        {
          "data": {
            "image/png": "[encoded data removed]",
            "text/plain": [
              "<Figure size 640x480 with 1 Axes>"
            ]
          },
          "metadata": {},
          "output_type": "display_data"
        }
      ],
      "source": [
        "x_array = np.arange(-5, 5, 0.1)\n",
        "plt.plot(x_array, 2.3 * x_array**5 + 2.3 * x_array**4 + 3.2 * x_array + 3.2)"
      ]
    },
    {
      "cell_type": "markdown",
      "metadata": {
        "id": "8JiTQCJ4K7FO"
      },
      "source": [
        "# 3. Método más eficiente"
      ]
    },
    {
      "cell_type": "markdown",
      "metadata": {
        "id": "LlXhTqeyHFQ1"
      },
      "source": [
        "Programa una función que, dada una función $f$ con una raiz $p$ cerca de un valor $p_0$, encuentra una raiz de \"la forma más eficiente\" (vista hasta ahora). Esto es:\n",
        "\n",
        "1. Comprueba si el método de la secante garantizaría la convergencia a $p$ dadas dos estimaciones $p_0$ y $p_1$.\n",
        "2. Si es así, aplica el método de la secante para encontrar $p$.\n",
        "3. Si la convergencia no está garantizada, encuentra un intervalo $[a, b]$ cerca de $p_0$ donde haya un cambio de signo. \n",
        "4. Utiliza el método Regula-Falsi para encontrar la raiz $p$ en $[a, b]$. "
      ]
    },
    {
      "cell_type": "code",
      "execution_count": 38,
      "metadata": {
        "id": "mXHkSyu7HFQ4"
      },
      "outputs": [],
      "source": [
        "def find_root_efficiently(f, p_0, p_1, x):\n",
        "    f_der = sp.diff(f, x)\n",
        "    interval = sp.Interval(p_0, p_1)\n",
        "    der_2_interval = continuous_domain(sp.diff(f_der, x), x, interval)\n",
        "    \n",
        "    # paso 1\n",
        "    if der_2_interval == interval and (f.subs(x, p_0) == 0 or f.subs(x, p_1) == 0) and (f_der.subs(x, p_0) != 0 or f_der.subs(x, p_1) != 0):\n",
        "        # paso 2\n",
        "        return secant(f, p_0, p_1, x)\n",
        "    else:\n",
        "        # paso 3\n",
        "        d = (p_1 - p_0) / 2\n",
        "        while f.subs(p_0 - d) * f.subs(p_0 + d) >= 0:\n",
        "            d -= 0.001\n",
        "        # paso 4\n",
        "        return regula_falsi(f, p_0 - d, p_0 + d, x)\n",
        "    "
      ]
    },
    {
      "cell_type": "markdown",
      "metadata": {
        "id": "uDy1cVT6HFQ5"
      },
      "source": [
        "Utiliza la función anterior para encontrar una raíz de las siguientes funciones:"
      ]
    },
    {
      "cell_type": "markdown",
      "metadata": {
        "id": "2Etg7RO_HFQ6"
      },
      "source": [
        "**Lista de funciones**:\n",
        "\n",
        "1. $f_1(x)=2.3 x^5 + 2.3 x^4 + 3.2 x + 3.2$\n",
        "2. $f_4(x)=e^{-x} - \\ln x$, for $x > 0$\n",
        "3. $f_5(x)=\\ln x + x$, for $x > 0$\n",
        "4. $f_8(x)=\\ln x + \\sqrt{x}$, for $x > 0$\n",
        "5. $f_7(x)=(x-1)^2 - \\sqrt{x}$, for $x > 0$\n",
        "6. $f_9(x)=e^x - \\sin x$, for $x > 0$"
      ]
    },
    {
      "cell_type": "code",
      "execution_count": null,
      "metadata": {
        "id": "jkHidqLVHFQ7"
      },
      "outputs": [],
      "source": []
    }
  ],
  "metadata": {
    "colab": {
      "provenance": []
    },
    "kernelspec": {
      "display_name": "Python 3",
      "language": "python",
      "name": "python3"
    },
    "language_info": {
      "codemirror_mode": {
        "name": "ipython",
        "version": 3
      },
      "file_extension": ".py",
      "mimetype": "text/x-python",
      "name": "python",
      "nbconvert_exporter": "python",
      "pygments_lexer": "ipython3",
      "version": "3.10.6"
    },
    "orig_nbformat": 4,
    "vscode": {
      "interpreter": {
        "hash": "916dbcbb3f70747c44a77c7bcd40155683ae19c65e1c03b4aa3499c5328201f1"
      }
    }
  },
  "nbformat": 4,
  "nbformat_minor": 0
}

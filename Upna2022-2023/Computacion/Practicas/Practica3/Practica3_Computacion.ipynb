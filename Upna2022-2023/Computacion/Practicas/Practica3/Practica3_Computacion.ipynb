{
  "cells": [
    {
      "cell_type": "markdown",
      "metadata": {
        "id": "d3o88vUabWXF"
      },
      "source": [
        "# **PRÁCTICA 3:** Resolución aproximada de ecuaciones mediante el Método de Newton-Raphson\n"
      ]
    },
    {
      "cell_type": "markdown",
      "metadata": {
        "id": "AC1m4eySbfVC"
      },
      "source": [
        "En esta práctica continuamos con la implementaciÓn de los métodos de localización de ceros vistos en la teoría. En este caso, la práctica consiste en dos partes. \n",
        "\n",
        "## 1. Hallar el intervalo\n",
        "\n",
        "Dado un polinomio $P(x)$ de grado impar, encontrar un intervalo $[a,b]$ en el que dicho polinomio contenga al menos un cero.\n"
      ]
    },
    {
      "cell_type": "code",
      "execution_count": 3,
      "metadata": {
        "id": "BEU4cdvHbP5u"
      },
      "outputs": [],
      "source": [
        "import sympy as sp\n",
        "def root_interval (P, x):\n",
        "  interval = sp.solve(sp.diff(P), x)\n",
        "  if (P.subs(x, interval[0]) * P.subs(x, interval[1])) < 0:\n",
        "    print(\"Intervalo [{}, {}]\".format(interval[0], interval[1]))\n",
        "    return interval[0], interval[1]\n",
        "  else:\n",
        "    return None, None"
      ]
    },
    {
      "cell_type": "markdown",
      "metadata": {
        "id": "fJD7zBTScD-m"
      },
      "source": [
        "## 2. Método de Newton-Raphson\n",
        "Debe implementarse un programa en el que dado un polinomio $P(x)$ y una tolerancia $err$, calcule un intervalo $[a,b]$ utilizando el programa anterior y devuelva el resultado de aplicar el **método de Newton-Raphson** a dicho polinomio en dicho intervalo. Será\n",
        "necesario tener en cuenta que el método puede no converger, por lo que habrá que considerar un número máximo de iteraciones ($maxIter$)."
      ]
    },
    {
      "cell_type": "code",
      "execution_count": 4,
      "metadata": {
        "id": "mMJ1gMbPcjfw"
      },
      "outputs": [],
      "source": [
        "def newtonRaphson (P, err, maxIter, x):\n",
        "  a, b = root_interval(P, x)\n",
        "  iters = 0\n",
        "  der = sp.diff(P, x)\n",
        "  x_n = (a + b) / 2\n",
        "  x_1 = x_n + err + 1\n",
        "  \n",
        "  while (abs(x_1 - x_n) > err) and (iters < maxIter):\n",
        "    x_1 = x_n - P.subs(x, x_n) / der.subs(x, x_n)\n",
        "    x_n = x_1\n",
        "    iters += 1\n",
        "  return x_1"
      ]
    },
    {
      "cell_type": "markdown",
      "metadata": {
        "id": "lONf-bXzc5QA"
      },
      "source": [
        "NOTA: Comprobar los resultados obtenidos en el caso del polinomio: \n",
        "\n",
        "$$ P(x) = 0.25x^3 + 1.25x^2 - 0.25x - 1.25 $$\n",
        "\n",
        "(cuyas raíces están en $\\{-1, 1, 5\\}$). \n",
        "\n",
        "En particular, utilizar el método para encontrar la raíz contenida en el intervalo $[a,b] = [-6,-4]$."
      ]
    },
    {
      "cell_type": "code",
      "execution_count": 5,
      "metadata": {},
      "outputs": [
        {
          "name": "stdout",
          "output_type": "stream",
          "text": [
            "Intervalo [-3.43050087404306, 0.0971675407097271]\n",
            "Raiz en: -1.03174603174603\n"
          ]
        }
      ],
      "source": [
        "x = sp.Symbol('x')\n",
        "p = 0.25*x**3 + 1.25*x**2 - 0.25*x - 1.25\n",
        "res = newtonRaphson(p, 0.00001, 1000, x)\n",
        "print(\"Raiz en: {}\".format(res))"
      ]
    }
  ],
  "metadata": {
    "colab": {
      "provenance": []
    },
    "kernelspec": {
      "display_name": "Python 3",
      "language": "python",
      "name": "python3"
    },
    "language_info": {
      "codemirror_mode": {
        "name": "ipython",
        "version": 3
      },
      "file_extension": ".py",
      "mimetype": "text/x-python",
      "name": "python",
      "nbconvert_exporter": "python",
      "pygments_lexer": "ipython3",
      "version": "3.10.6"
    },
    "vscode": {
      "interpreter": {
        "hash": "916dbcbb3f70747c44a77c7bcd40155683ae19c65e1c03b4aa3499c5328201f1"
      }
    }
  },
  "nbformat": 4,
  "nbformat_minor": 0
}

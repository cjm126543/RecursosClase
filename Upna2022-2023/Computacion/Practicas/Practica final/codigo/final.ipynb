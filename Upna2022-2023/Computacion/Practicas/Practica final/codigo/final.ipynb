{
 "cells": [
  {
   "attachments": {},
   "cell_type": "markdown",
   "metadata": {},
   "source": [
    "# Práctica Final:\n",
    "## Resolución de un problema de regresión lineal mediante algoritmos genéticos\n",
    "### Computación 2023 Carlos Jimeno Miguel"
   ]
  },
  {
   "attachments": {},
   "cell_type": "markdown",
   "metadata": {},
   "source": [
    "## -----------------------------------------------------------------------------"
   ]
  },
  {
   "attachments": {},
   "cell_type": "markdown",
   "metadata": {},
   "source": [
    "# <span style=\"color:#C97828\"> Desarrollo de nuestro código </span>"
   ]
  },
  {
   "attachments": {},
   "cell_type": "markdown",
   "metadata": {},
   "source": [
    "##### Librerias utilizadas"
   ]
  },
  {
   "cell_type": "code",
   "execution_count": 35,
   "metadata": {},
   "outputs": [],
   "source": [
    "import numpy as np\n",
    "import sympy as sp\n",
    "import pandas as pd"
   ]
  },
  {
   "attachments": {},
   "cell_type": "markdown",
   "metadata": {},
   "source": [
    "##### Carga de datos y conversión a numpy arrays"
   ]
  },
  {
   "cell_type": "code",
   "execution_count": 36,
   "metadata": {},
   "outputs": [],
   "source": [
    "def carga_datos():\n",
    "    diabetes_df = pd.read_csv('../datasets/diabetes_normalized.dat')\n",
    "    laser_df = pd.read_csv('../datasets/laser_normalized.dat')\n",
    "    quake_df = pd.read_csv('../datasets/quake_normalized.dat')\n",
    "\n",
    "    diabetes_nparray = diabetes_df.to_numpy()\n",
    "    laser_nparray = laser_df.to_numpy()\n",
    "    quake_nparray = quake_df.to_numpy()\n",
    "\n",
    "    return diabetes_nparray, laser_nparray, quake_nparray"
   ]
  },
  {
   "attachments": {},
   "cell_type": "markdown",
   "metadata": {},
   "source": [
    "##### **1. Solución al modelo de regresión:** Calculemos la solución de la recta de regresión del conjunto de datos"
   ]
  },
  {
   "cell_type": "code",
   "execution_count": 37,
   "metadata": {},
   "outputs": [],
   "source": [
    "def obten_solucion(dataset):\n",
    "    row_length = len(dataset[0])\n",
    "    model_vars = dataset[:, 1:row_length - 1]           # Variables predictoras del modelo\n",
    "    pred_value = dataset[:, row_length - 1]             # Valor predictor de las variables\n",
    "    beta_arr = np.zeros(row_length - 2)                 # Coeficientes de regresion (extraemos la variable dependiente)\n",
    "\n",
    "    # Calculamos la solucion del modelo\n",
    "    # Calcularemos los coeficientes de regresion como sigue:\n",
    "    # beta_n = sum((x_i - x_medio) * (y_i - y_medio)) / sum((x_i - x_medio)^2)\n",
    "    independent_mean = np.array([np.mean(dataset[:, x + 1]) for x in range(row_length - 2)])\n",
    "    dependent_mean = np.mean(dataset[:, row_length - 1])\n",
    "\n",
    "    for i in range(row_length - 2):\n",
    "        beta_arr[i] = sum((model_vars[:, i] - independent_mean[i]) * (pred_value - dependent_mean)) / sum((model_vars[:, i] - independent_mean[i])**2)\n",
    "\n",
    "    beta_zero = dependent_mean\n",
    "    for i in range(row_length - 2):\n",
    "        beta_zero -= beta_arr[i] * independent_mean[i]\n",
    "\n",
    "    model_solution = np.concatenate(([beta_zero], beta_arr))\n",
    "\n",
    "    return model_solution\n"
   ]
  },
  {
   "attachments": {},
   "cell_type": "markdown",
   "metadata": {},
   "source": [
    "##### **2. Función de fitness:** Usaremos el error cuadrático medio entre los valores predichos y la solución exacta del modelo <span style=\"color:red\">MINIMIZAR</span>"
   ]
  },
  {
   "cell_type": "code",
   "execution_count": 38,
   "metadata": {},
   "outputs": [],
   "source": [
    "def fitness(actual_cromosome, model_sol):\n",
    "    return np.square(np.subtract(actual_cromosome, model_sol)).mean()"
   ]
  },
  {
   "attachments": {},
   "cell_type": "markdown",
   "metadata": {},
   "source": [
    "##### **3. Inicialización de la población:** Codificaremos los cromosomas con los valores de los diferentes coeficientes de regresión, y los inicializaremos aleatoriamente\n",
    "$$\n",
    "C_n = (\\beta_0, \\beta_1, ..., \\beta_n)\n",
    "$$\n",
    "\n",
    "<span style=\"color:green\">Nota:</span> Al estar los valores normalizados entre 0 y 1 los valores de los cromosomas estarán en el rango [0, 1]"
   ]
  },
  {
   "cell_type": "code",
   "execution_count": 39,
   "metadata": {},
   "outputs": [],
   "source": [
    "def ini_poblacion(cromosome_length, pob_size):\n",
    "    return np.random.rand(pob_size, cromosome_length)"
   ]
  },
  {
   "attachments": {},
   "cell_type": "markdown",
   "metadata": {},
   "source": [
    "##### **4. Asignación de probabilidades:** Asignaremos probabilidades a los diferentes cromosomas para el método de selección proporcional al ajuste (método de la ruleta)"
   ]
  },
  {
   "cell_type": "code",
   "execution_count": 40,
   "metadata": {},
   "outputs": [],
   "source": [
    "def asign_probabilidad(pob_size, fit_array):\n",
    "    prob_array = np.zeros(pob_size)\n",
    "    fit_sum = np.sum(fit_array)\n",
    "    for i in range(pob_size):\n",
    "        prob_array[i] = fit_array[i] / fit_sum\n",
    "    return prob_array\n"
   ]
  },
  {
   "attachments": {},
   "cell_type": "markdown",
   "metadata": {},
   "source": [
    "##### **5. Asignación de subintervalos en función de las probabilidades:** Repartimos las probabilidades anteriores para el método de la ruleta"
   ]
  },
  {
   "cell_type": "code",
   "execution_count": 41,
   "metadata": {},
   "outputs": [],
   "source": [
    "def divide_subintervalos(prob_arr):\n",
    "    subintervals = list()\n",
    "    ini = 0\n",
    "    fin = prob_arr[0]\n",
    "    subintervals.append([ini, fin])\n",
    "    for i in range(len(prob_arr) - 1):\n",
    "        ini = fin\n",
    "        fin = sum(prob_arr[:i + 1])\n",
    "        subintervals.append([ini, fin])\n",
    "    subintervals[-1][1] = 1\n",
    "    return subintervals\n"
   ]
  },
  {
   "attachments": {},
   "cell_type": "markdown",
   "metadata": {},
   "source": [
    "##### **6. Implementación del método estocástico (sin reemplazamiento) del torneo:** Una vez seleccionados _k_ individuos les asignamos probabilidad en función de sus fitness "
   ]
  },
  {
   "cell_type": "code",
   "execution_count": 59,
   "metadata": {},
   "outputs": [],
   "source": [
    "def torneo_estocastico(actual_poblation, num_contestants, exact_sol):\n",
    "    fitness_arr = np.zeros(num_contestants)\n",
    "    idx = np.random.choice(len(actual_poblation), num_contestants, replace=False)\n",
    "    tourney_elems = actual_poblation[idx, :]\n",
    "    for i in range(num_contestants):\n",
    "        fitness_arr[i] = fitness(tourney_elems[i], exact_sol)\n",
    "    _, sorted_tourney_elems = zip(*sorted(zip(fitness_arr, tourney_elems)))\n",
    "\n",
    "    p_prob = np.random.rand()\n",
    "    tourney_probs = np.zeros(num_contestants)\n",
    "    for k in range(num_contestants):\n",
    "        tourney_probs[k] = p_prob * ((1 - p_prob)**k)\n",
    "\n",
    "    tourney_probs /= tourney_probs.sum()    # Normalizamos las probabilidades para que puedan sumar 1\n",
    "\n",
    "    return sorted_tourney_elems[np.random.choice(len(sorted_tourney_elems), p=tourney_probs)]\n",
    "    "
   ]
  },
  {
   "attachments": {},
   "cell_type": "markdown",
   "metadata": {},
   "source": [
    "##### **7a. Selección de progenitores:** Por el método de la ruleta"
   ]
  },
  {
   "cell_type": "code",
   "execution_count": 43,
   "metadata": {},
   "outputs": [],
   "source": [
    "def selecciona_prog_ruleta(poblation, model_result, num_prog):\n",
    "    fit_vals = np.zeros(len(poblation))\n",
    "    for i in range(len(fit_vals)):\n",
    "        fit_vals[i] = fitness(poblation[i], model_result)\n",
    "    poblation_probabilities = asign_probabilidad(len(poblation), fit_vals)\n",
    "    intervals = divide_subintervalos(poblation_probabilities)\n",
    "\n",
    "    parents = list()\n",
    "    for i in range(num_prog):\n",
    "        select_prob = np.random.rand()\n",
    "        for interval in intervals:\n",
    "            if (select_prob >= interval[0] and select_prob < interval[1]):\n",
    "                parents.append(poblation[intervals.index(interval)])\n",
    "                break\n",
    "\n",
    "    return parents\n"
   ]
  },
  {
   "attachments": {},
   "cell_type": "markdown",
   "metadata": {},
   "source": [
    "##### **7b. Selección de progenitores:** Por el método del torneo estocástico"
   ]
  },
  {
   "cell_type": "code",
   "execution_count": 44,
   "metadata": {},
   "outputs": [],
   "source": [
    "def selecciona_prog_torneo(poblation, model_result, num_prog):\n",
    "    parents = list()\n",
    "    for i in range(num_prog):\n",
    "        parents.append(torneo_estocastico(poblation, num_prog, model_result))\n",
    "    return parents"
   ]
  },
  {
   "attachments": {},
   "cell_type": "markdown",
   "metadata": {},
   "source": [
    "##### **8a. Cruzamiento:** Utilizaremos el cruzamiento aritmético total:\n",
    "$$\n",
    "Cnew_i = \\alpha * x_i + (1 - \\alpha) * y_i \\qquad con \\ \\alpha \\in [0, 1] \\quad x_i \\in C_x \\quad e \\quad y_i \\in C_y\n",
    "$$"
   ]
  },
  {
   "cell_type": "code",
   "execution_count": 45,
   "metadata": {},
   "outputs": [],
   "source": [
    "def cruzamiento_total(parent_a, parent_b, alpha):\n",
    "    child = np.zeros(len(parent_a))\n",
    "    for i in range(len(parent_a)):\n",
    "        child[i] = (alpha * parent_a[i]) + ((1.0 - alpha) * parent_b[i])\n",
    "    return child"
   ]
  },
  {
   "attachments": {},
   "cell_type": "markdown",
   "metadata": {},
   "source": [
    "##### **8b. Cruzamiento:** Utilizaremos el cruzamiento simple\n",
    "$$\n",
    "Cnew_i = (x_i + y_i) * \\alpha \\qquad con \\ \\alpha \\in [0, 1] \\quad x_i \\in C_x \\quad e \\quad y_i \\in C_y\n",
    "$$"
   ]
  },
  {
   "cell_type": "code",
   "execution_count": 46,
   "metadata": {},
   "outputs": [],
   "source": [
    "def cruzamiento_simple(parent_a, parent_b, alpha):\n",
    "    pos = np.random.randint(0, len(parent_a))\n",
    "    child = np.copy(parent_a)\n",
    "\n",
    "    for i in range(pos, len(parent_a)):\n",
    "        child[i] = (parent_a[i] + parent_b[i]) * alpha\n",
    "    \n",
    "    return child"
   ]
  },
  {
   "attachments": {},
   "cell_type": "markdown",
   "metadata": {},
   "source": [
    "##### **9. Mutación:** Utilizaremos la mutación no uniforme según una distribución fija (una distribución normal con media = 0 y desviación estandar pasada como parámetro)"
   ]
  },
  {
   "cell_type": "code",
   "execution_count": 47,
   "metadata": {},
   "outputs": [],
   "source": [
    "def muta_no_uniforme(cromosome, deviation):\n",
    "    probability = 0.70\n",
    "    for i in range(len(cromosome)):\n",
    "        if (np.random.uniform(0, 1) < probability):\n",
    "            cromosome[i] += np.random.normal(0, 1) * deviation\n",
    "            if (cromosome[i] < 0):\n",
    "                cromosome[i] = 0\n",
    "            elif (cromosome[i] > 1):\n",
    "                cromosome[i] = 1\n",
    "    return cromosome"
   ]
  },
  {
   "attachments": {},
   "cell_type": "markdown",
   "metadata": {},
   "source": [
    "##### **10. Selección de supervivientes:** Utilizaremos un enfoque elitista, si para una población $z$ generamos otros $z$ descendientes, de los $2z$ individuos nos quedaremos con los $z$ mejores"
   ]
  },
  {
   "cell_type": "code",
   "execution_count": 48,
   "metadata": {},
   "outputs": [],
   "source": [
    "def select_supers(poblation_fit, childs_fit, population):\n",
    "    total_fit = np.concatenate((poblation_fit, childs_fit))\n",
    "    _, sorted_population = zip(*sorted(zip(total_fit, population), key=lambda x: x[0]))\n",
    "    return sorted_population[0:len(population) - len(childs_fit)]\n",
    "    "
   ]
  },
  {
   "attachments": {},
   "cell_type": "markdown",
   "metadata": {},
   "source": [
    "# <span style=\"color:#C97828\"> Ejecución del programa principal </span>"
   ]
  },
  {
   "cell_type": "code",
   "execution_count": 72,
   "metadata": {},
   "outputs": [
    {
     "name": "stdout",
     "output_type": "stream",
     "text": [
      "Numero iteraciones: 16416 Aproximacion: [0.01111945 0.33928433 0.39548532]\n",
      "Fitness: 8.758938613087222e-11 Resultado exacto: [0.01111626 0.33926845 0.39548496]\n"
     ]
    }
   ],
   "source": [
    "def main():\n",
    "    # Definimos los parametros para nuestro algoritmo\n",
    "    tolerance = 1e-10\n",
    "    max_iters = 10e6\n",
    "    std_dev = 1.5\n",
    "    alfa = 0.25\n",
    "    prob_cruce = 0.65\n",
    "\n",
    "    # Cargamos los arrays correspondientes al conjunto de datos\n",
    "    diabetes_nparr, laser_nparr, quake_nparr = carga_datos()\n",
    "\n",
    "    # Obtenemos la solucion real para el dataset\n",
    "    exact_sol_diab = obten_solucion(diabetes_nparr)\n",
    "    # exact_sol_laser = obten_solucion(laser_nparr)\n",
    "    # exact_sol_quake = obten_solucion(quake_nparr)\n",
    "\n",
    "    # Creemos la poblacion inicial\n",
    "    ini_diabetes_pob = ini_poblacion(len(exact_sol_diab), 10)\n",
    "    # ini_laser_pob = ini_poblacion(len(exact_sol_laser), 100)\n",
    "    # ini_quake_pob = ini_poblacion(len(exact_sol_quake), 1000)\n",
    "\n",
    "    actual_poblation_diabetes = ini_diabetes_pob\n",
    "    # actual_poblation_laser = ini_laser_pob\n",
    "    # actual_poblation_quake = ini_quake_pob\n",
    "\n",
    "    cont = 0\n",
    "    while (cont < max_iters):\n",
    "        # Evaluemos la poblacion\n",
    "        fit_values_diabetes = np.zeros(len(actual_poblation_diabetes))\n",
    "        # fit_values_laser = np.zeros(len(actual_poblation_laser))\n",
    "        # fit_values_quake = np.zeros(len(actual_poblation_quake))\n",
    "\n",
    "        for i in range(len(ini_diabetes_pob)):\n",
    "            fit_values_diabetes[i] = fitness(actual_poblation_diabetes[i], exact_sol_diab)\n",
    "            if (fit_values_diabetes[i] < tolerance):\n",
    "                print(f'Numero iteraciones: {cont} Aproximacion: {actual_poblation_diabetes[i]}')\n",
    "                print(f'Fitness: {fit_values_diabetes[i]} Resultado exacto: {exact_sol_diab}')\n",
    "                return\n",
    "\n",
    "        # for i in range(len(ini_laser_pob)):\n",
    "        #     fit_values_laser[i] = fitness(actual_poblation_laser[i], exact_sol_laser)\n",
    "\n",
    "        # for i in range(len(ini_quake_pob)):\n",
    "        #     fit_values_quake[i] = fitness(actual_poblation_quake[i], exact_sol_quake)\n",
    "\n",
    "        # Seleccionemos los progenitores\n",
    "        parents_r_diabetes = selecciona_prog_ruleta(actual_poblation_diabetes, exact_sol_diab, 5)\n",
    "        # parents_r_laser = selecciona_prog_ruleta(actual_poblation_laser, exact_sol_laser, 50)\n",
    "        # parents_r_quake = selecciona_prog_ruleta(actual_poblation_quake, exact_sol_quake, 500)\n",
    "        # parents_t_diabetes = selecciona_prog_torneo(actual_poblation_diabetes, exact_sol_diab, 5)\n",
    "        # parents_t_laser = selecciona_prog_torneo(actual_poblation_laser, exact_sol_laser, 50)\n",
    "        # parents_t_quake = selecciona_prog_torneo(actual_poblation_quake, exact_sol_quake, 500)\n",
    "\n",
    "        # Crucemos los progenitores\n",
    "        childs = list()\n",
    "        parents = list(parents_r_diabetes)\n",
    "        for i in range(len(parents_r_diabetes)):\n",
    "            idx_a = np.random.randint(0, len(parents))\n",
    "            parent_a = np.array(parents[idx_a])\n",
    "            if (np.random.uniform(0, 1) < prob_cruce):\n",
    "                idx_b = idx_a\n",
    "                while (idx_b == idx_a):\n",
    "                    idx_b = np.random.randint(0, len(parents))\n",
    "                parent_b = np.array(parents[idx_b])\n",
    "                childs.append(cruzamiento_total(parent_a, parent_b, alfa))\n",
    "            else:\n",
    "                childs.append(parent_a)\n",
    "\n",
    "        # Mutemos los hijos\n",
    "        for cromosome in childs:\n",
    "            cromosome = muta_no_uniforme(cromosome, std_dev)\n",
    "\n",
    "        # Evaluemos los hijos\n",
    "        fit_child = list()\n",
    "        for i in range(len(childs)):\n",
    "            fit_child.append(fitness(childs[i], exact_sol_diab))\n",
    "            \n",
    "        # Seleccionemos los supervivientes\n",
    "        pob_total_diab = np.concatenate((actual_poblation_diabetes, np.array(childs)))\n",
    "        actual_poblation_diabetes = select_supers(fit_values_diabetes, fit_child, pob_total_diab)\n",
    "        actual_poblation_diabetes = np.asarray(actual_poblation_diabetes)\n",
    "\n",
    "        cont += 1\n",
    "\n",
    "\n",
    "if __name__ == \"__main__\":\n",
    "    main()"
   ]
  }
 ],
 "metadata": {
  "kernelspec": {
   "display_name": "Python 3",
   "language": "python",
   "name": "python3"
  },
  "language_info": {
   "codemirror_mode": {
    "name": "ipython",
    "version": 3
   },
   "file_extension": ".py",
   "mimetype": "text/x-python",
   "name": "python",
   "nbconvert_exporter": "python",
   "pygments_lexer": "ipython3",
   "version": "3.11.0"
  },
  "orig_nbformat": 4
 },
 "nbformat": 4,
 "nbformat_minor": 2
}

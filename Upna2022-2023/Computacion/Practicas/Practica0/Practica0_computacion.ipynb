{
 "cells": [
  {
   "cell_type": "markdown",
   "metadata": {
    "id": "wExalObQU-aU"
   },
   "source": [
    "# Práctica 0: INTRODUCCIÓN\n"
   ]
  },
  {
   "cell_type": "markdown",
   "metadata": {
    "id": "edkvUW-uVFr8"
   },
   "source": [
    "## Ejercicio 1\n",
    "Dados los vectores $a = (4,3,8,1)$ y $b = (2,2,1,6)$:\n",
    "\n",
    "\n",
    "1.   Obtener la suma de los vectores a y b.\n",
    "2.   Obtener un vector c cuyos componentes sean los elementos del vector a \n",
    "multiplicados por cada elementocorrespondiente del vector b.\n",
    "3.   Obtener un vector d cuyos componentes sean los elementos del vector a elevados a la potencia especificada por cada elemento correspondiente en el vector b.\n",
    "\n"
   ]
  },
  {
   "cell_type": "code",
   "execution_count": 2,
   "metadata": {
    "id": "KF8XVH8lVFDi"
   },
   "outputs": [
    {
     "name": "stdout",
     "output_type": "stream",
     "text": [
      "Apartado 1:\n",
      "[6 5 9 7]\n",
      "Apartado 2:\n",
      "[8 6 8 6]\n",
      "Apartado 3:\n",
      "[16  9  8  1]\n"
     ]
    }
   ],
   "source": [
    "import numpy as np\n",
    "from numpy import linalg as la\n",
    "\n",
    "a = np.array([4, 3, 8, 1])\n",
    "b = np.array([2, 2, 1, 6])\n",
    "\n",
    "# Apartado 1\n",
    "c = a + b\n",
    "print(\"Apartado 1:\\n\" + str(c))\n",
    "\n",
    "# Apartado 2\n",
    "c = np.zeros(4)\n",
    "c = a * b\n",
    "print(\"Apartado 2:\\n\" + str(c))\n",
    "\n",
    "# Apartado 3\n",
    "d = pow(a, b)\n",
    "print(\"Apartado 3:\\n\" + str(d))"
   ]
  },
  {
   "attachments": {},
   "cell_type": "markdown",
   "metadata": {
    "id": "Ga_Y_jdvVsDK"
   },
   "source": [
    "## Ejercicio 2 <font color='red'>TODO</font>\n",
    "Dado $A = \\begin{pmatrix} 1 & 2 & -1 \\\\ 1 & 0 & 1 \\\\ 4 & -4 & 5 \\end{pmatrix}$\n",
    "1.   Obtener su matriz transpuesta $A^T$.\n",
    "2.   Comprobar si tiene inversa $A^{-1}$ y en caso de que la tenga, calcularla.\n",
    "3.   Calcular sus valores y vectores propios.\n",
    "4.   Comprobar que se cumple que, para cada valor propio $\\lambda$ y vector propio asociado v, se tiene $Av = \\lambda v$"
   ]
  },
  {
   "cell_type": "code",
   "execution_count": 3,
   "metadata": {
    "id": "lePh_25FU6CD"
   },
   "outputs": [
    {
     "name": "stdout",
     "output_type": "stream",
     "text": [
      "Apartado 1:\n",
      "[[ 1  1  4]\n",
      " [ 2  0 -4]\n",
      " [-1  1  5]]\n",
      "Apartado 2:\n",
      "[[ 0.66666667 -1.          0.33333333]\n",
      " [-0.16666667  1.5        -0.33333333]\n",
      " [-0.66666667  2.         -0.33333333]]\n",
      "Apartado 3:\n",
      "\t Valores propios: [3. 2. 1.]\n",
      "\t Vectores propios:\n",
      "[[-0.23570226  0.43643578  0.40824829]\n",
      " [ 0.23570226 -0.21821789 -0.40824829]\n",
      " [ 0.94280904 -0.87287156 -0.81649658]]\n",
      "\n",
      "########   Eigen ecuation  ########\n",
      "\n",
      "[ 0.22892101  0.17254603 -0.64731071] == [-0.70710678  1.30930734  1.22474487]\n",
      "[ 0.20751477 -0.17254603 -0.22556085] == [ 0.47140452 -0.43643578 -0.81649658]\n",
      "[0.0135625  0.12631246 3.18023951] == [ 0.94280904 -0.87287156 -0.81649658]\n"
     ]
    }
   ],
   "source": [
    "a = np.array([[1, 2, -1], [1, 0, 1], [4, -4, 5]])\n",
    "\n",
    "# Apartado 1\n",
    "a_t = a.transpose()\n",
    "print(\"Apartado 1:\\n\" + str(a_t))\n",
    "\n",
    "# Apartado 2\n",
    "a_i = la.inv(a)\n",
    "print(\"Apartado 2:\\n\" + str(a_i))\n",
    "\n",
    "# Apartado 3\n",
    "eigen_vals, eigen_vect = la.eig(a) \n",
    "print(\"Apartado 3:\\n\"\n",
    "          + \"\\t Valores propios: \" + str(eigen_vals) + \"\\n\"\n",
    "          + \"\\t Vectores propios:\\n\" + str(eigen_vect))\n",
    "\n",
    "# Apartado 4\n",
    "# TODO No se cumple\n",
    "print(\"\\n########   Eigen ecuation  ########\\n\")\n",
    "for i in range(len(eigen_vals)):\n",
    "    left = np.matmul(a, eigen_vect[i])\n",
    "    right = (eigen_vals[i] * eigen_vect[i])\n",
    "    print(str(left) + \" == \" + str(right))"
   ]
  },
  {
   "cell_type": "markdown",
   "metadata": {
    "id": "fsrBI5JeWJG1"
   },
   "source": [
    "## Ejercicio 3 \n",
    "Construir una matriz $A$ de $2 \\times 3$ elementos con números aleatorios.\n",
    "1.   Construir una matriz $B$ formada por la matriz $A$ y la matriz identidad a su derecha.\n",
    "2.   Construir una matriz $C$ extrayendo las columnas impares de la matriz $B$.\n",
    "3.   Construir una matriz $D$ formada por la intersección de la primera fila de $B$ y sus columnas tercera y cuarta."
   ]
  },
  {
   "cell_type": "code",
   "execution_count": 4,
   "metadata": {
    "id": "mlBATYhiWj4W"
   },
   "outputs": [
    {
     "name": "stdout",
     "output_type": "stream",
     "text": [
      "Matriz A:\n",
      "[[8 7 0]\n",
      " [4 0 3]]\n",
      "\n",
      "Apartado 1:\n",
      "[[8. 7. 0. 1. 0.]\n",
      " [4. 0. 3. 0. 1.]]\n",
      "Apartado 2:\n",
      "[[8. 0. 0.]\n",
      " [4. 3. 1.]]\n",
      "Apartado 3:\n",
      "[[0. 0. 0. 0. 0.]\n",
      " [0. 0. 0. 0. 0.]]\n"
     ]
    }
   ],
   "source": [
    "a = np.random.randint(0, 10, (2, 3))\n",
    "print(\"Matriz A:\\n\" + str(a) + \"\\n\")\n",
    "\n",
    "# Apartado 1:\n",
    "b = np.concatenate((a, np.eye(2)), axis=1)\n",
    "print(\"Apartado 1:\\n\" + str(b))\n",
    "\n",
    "# Apartado 2: sintaxis de slicing MATRIZ[i:j:k] i --> inicio\n",
    "                                            #   j --> fin\n",
    "                                            #   k --> paso\n",
    "c = b[:, 0::2]\n",
    "print(\"Apartado 2:\\n\" + str(c))\n",
    "\n",
    "# Apartado 3:\n",
    "d = np.where((b[0] == b[:,2:3]), b[0], 0)\n",
    "print(\"Apartado 3:\\n\" + str(d))"
   ]
  },
  {
   "cell_type": "markdown",
   "metadata": {
    "id": "FYqJbPF5WkFs"
   },
   "source": [
    "## Ejercicio 4\n",
    "Construir una matriz a de $4 \\times 4$ elementos con números aleatorios.\n",
    "1.  Obtener la suma de los elementos de cada fila.\n",
    "2.  Obtener la suma de los elementos de cada columna.\n",
    "3.  Obtener la suma de los elementos de su diagonal principal.\n",
    "4.  Extraer la submatriz cuya diagonal son los elementos $a_{1,1}$ y $a_{2,2}$."
   ]
  },
  {
   "cell_type": "code",
   "execution_count": 5,
   "metadata": {
    "id": "3l3VlmxmWxep"
   },
   "outputs": [
    {
     "name": "stdout",
     "output_type": "stream",
     "text": [
      "Matriz A:\n",
      "[[0 0 6 9]\n",
      " [6 9 7 3]\n",
      " [2 4 7 8]\n",
      " [6 0 4 6]]\n",
      "Apartado 1:\n",
      "[15 25 21 16]\n",
      "Apartado 2:\n",
      "[14 13 24 26]\n",
      "Apartado 3: 22\n",
      "Apartado 4:\n",
      "[[9 7]\n",
      " [4 7]]\n"
     ]
    }
   ],
   "source": [
    "a = np.random.randint(0, 10, (4, 4))\n",
    "print(\"Matriz A:\\n\" + str(a))\n",
    "\n",
    "# Apartado 1\n",
    "sum_elem_filas = np.sum(a, axis=1)\n",
    "print(\"Apartado 1:\\n\" + str(sum_elem_filas))\n",
    "\n",
    "# Apartado 2\n",
    "sum_elem_cols = np.sum(a, axis=0)\n",
    "print(\"Apartado 2:\\n\" + str(sum_elem_cols))\n",
    "\n",
    "# Apartado 3\n",
    "traza = np.trace(a)\n",
    "print(\"Apartado 3: \" + str(traza))\n",
    "\n",
    "# Apartado 4\n",
    "sub_m = a[1:3, 1:3]\n",
    "print(\"Apartado 4:\\n\" + str(sub_m))"
   ]
  },
  {
   "cell_type": "markdown",
   "metadata": {
    "id": "zpjqGF73WxkK"
   },
   "source": [
    "## Ejercicio 5\n",
    "\n",
    "Crear las matrices $M = \\begin{pmatrix} 1& 2 & 3 & 3 \\\\ 2 & 2 & 0 & 0 \\\\ 5 & 6 & 3 & 1 \\\\ 0 & 2 & 0 & 5 \\end{pmatrix}$ y $N = \\begin{pmatrix} 1& 2 & 3 & 3 \\\\ -1 & 2 & 0 & 0 \\\\ 5 & 6 & 3 & 1 \\\\ 0 & 2 & 0 & 4 \\end{pmatrix}$\n",
    "\n",
    "1.  Crear una matriz $O$ cuyos elementos $(i,j)$ son $o_{i,j} = 2m_{i,j} - 3n_{i,j}$\n",
    "1.  Crear una matriz $O$ cuyos elementos $(i,j)$ son $p_{i,j} = \\frac{1}{3}m_{i,j}^3$\n",
    "1.  Crear una matriz $O$ cuyos elementos $(i,j)$ son $p_{i,j} = n_{i,j}-\\frac{1+ \\sqrt{5}}{2}$\n"
   ]
  },
  {
   "cell_type": "code",
   "execution_count": 6,
   "metadata": {
    "id": "vlNdH8FsX_-Y"
   },
   "outputs": [
    {
     "name": "stdout",
     "output_type": "stream",
     "text": [
      "Matriz M:\n",
      "[[1 2 3 3]\n",
      " [2 2 0 0]\n",
      " [5 6 3 1]\n",
      " [0 2 0 5]]\n",
      "Matriz N:\n",
      " [[ 1  2  3  3]\n",
      " [-1  2  0  0]\n",
      " [ 5  6  3  1]\n",
      " [ 0  2  0  4]]\n",
      "Apartado 1:\n",
      "[[-1. -2. -3. -3.]\n",
      " [ 7. -2.  0.  0.]\n",
      " [-5. -6. -3. -1.]\n",
      " [ 0. -2.  0. -2.]]\n",
      "Apartado 2:\n",
      " [[ 0.33333333  2.66666667  9.          9.        ]\n",
      " [ 2.66666667  2.66666667  0.          0.        ]\n",
      " [41.66666667 72.          9.          0.33333333]\n",
      " [ 0.          2.66666667  0.         41.66666667]]\n",
      "Apartado 3:\n",
      "[[-0.61803399  0.38196601  1.38196601  1.38196601]\n",
      " [-2.61803399  0.38196601 -1.61803399 -1.61803399]\n",
      " [ 3.38196601  4.38196601  1.38196601 -0.61803399]\n",
      " [-1.61803399  0.38196601 -1.61803399  2.38196601]]\n"
     ]
    }
   ],
   "source": [
    "m = np.array([[1, 2, 3, 3], [2, 2, 0, 0], [5, 6, 3, 1], [0, 2, 0, 5]])\n",
    "n = np.array([[1, 2, 3, 3], [-1, 2, 0, 0], [5, 6, 3, 1], [0, 2, 0, 4]])\n",
    "print(\"Matriz M:\\n\" + str(m) + \"\\nMatriz N:\\n\", str(n))\n",
    "\n",
    "# Apartado 1\n",
    "o = np.zeros((4, 4))\n",
    "for i in range(4):\n",
    "    for j in range(4):\n",
    "        o[i, j] = (2 * m[i, j]) - (3 * n[i, j])\n",
    "print(\"Apartado 1:\\n\" + str(o))\n",
    "\n",
    "# Apartado 2\n",
    "p = np.zeros((4, 4))\n",
    "for i in range(4):\n",
    "    for j in range(4):\n",
    "        p[i, j] = (1/3) * pow(m[i, j], 3)\n",
    "print(\"Apartado 2:\\n\", str(p))\n",
    "\n",
    "# Apartado 3\n",
    "q = np.zeros((4, 4))\n",
    "for i in range(4):\n",
    "    for j in range(4):\n",
    "        q[i, j] = n[i, j] - ((1 + np.sqrt(5)) / 2)\n",
    "print(\"Apartado 3:\\n\" + str(q))"
   ]
  },
  {
   "cell_type": "markdown",
   "metadata": {
    "id": "pik6tTt_YAET"
   },
   "source": [
    "## Ejercicio 6\n",
    "\n",
    "Teniendo en cuenta la matriz $M$ del ejercicio 5, sumar a la tercera fila la primera fila multiplicada por 3. Cambiar la primera columna de $M$ por la tercera."
   ]
  },
  {
   "cell_type": "code",
   "execution_count": 7,
   "metadata": {
    "id": "wfJDWn1hYXRP"
   },
   "outputs": [
    {
     "name": "stdout",
     "output_type": "stream",
     "text": [
      "Matriz M:\n",
      "[[1 2 3 3]\n",
      " [2 2 0 0]\n",
      " [5 6 3 1]\n",
      " [0 2 0 5]]\n",
      "Solucion:\n",
      "[[ 3  2  1  3]\n",
      " [ 0  2  2  0]\n",
      " [12 12  8 10]\n",
      " [ 0  2  0  5]]\n"
     ]
    }
   ],
   "source": [
    "print(\"Matriz M:\\n\" + str(m))\n",
    "\n",
    "# Solucion\n",
    "new_mat = m.copy()\n",
    "new_mat[2] = m[2] + (m[0] * 3)\n",
    "new_mat[:, [2, 0]] = new_mat[:, [0, 2]]\n",
    "print(\"Solucion:\\n\" + str(new_mat))"
   ]
  },
  {
   "cell_type": "markdown",
   "metadata": {
    "id": "7ZTZJCSbYXX3"
   },
   "source": [
    "## Ejercicio 7\n",
    "Tomando la matriz $N$ del ejercicio 5, hallar el valor mínimo dentro de cada fila de $N$. Ordenar los elementos de cada columna de $N$ en orden ascendente. "
   ]
  },
  {
   "cell_type": "code",
   "execution_count": 8,
   "metadata": {
    "id": "1dN0IUcLYoyu"
   },
   "outputs": [
    {
     "name": "stdout",
     "output_type": "stream",
     "text": [
      "Matriz N:\n",
      "[[ 1  2  3  3]\n",
      " [-1  2  0  0]\n",
      " [ 5  6  3  1]\n",
      " [ 0  2  0  4]]\n",
      "Solucion:\n",
      "[-1.  0.  1.  1.]\n"
     ]
    }
   ],
   "source": [
    "print(\"Matriz N:\\n\" + str(n))\n",
    "\n",
    "# Solucion\n",
    "new_mat = n.copy()\n",
    "min_values = np.zeros(new_mat.shape[0])\n",
    "for i in range(new_mat.shape[0]):\n",
    "    min_values[i] = min(new_mat[i])\n",
    "\n",
    "min_values.sort()\n",
    "print(\"Solucion:\\n\" + str(min_values))"
   ]
  },
  {
   "cell_type": "markdown",
   "metadata": {
    "id": "6QcxrHMcYnmy"
   },
   "source": [
    "## Ejercicio 8\n",
    "Dados los vectores $a = (1,3,5,7)$ y $b = (2,4,6,8)$, construir la matriz $C = \\begin{pmatrix} 2& 4 & 6 & 8 \\\\ 6 & 12 & 18 & 24 \\\\ 10 & 20 & 30 & 40 \\\\ 14 & 28 & 42 & 56 \\end{pmatrix}$"
   ]
  },
  {
   "cell_type": "code",
   "execution_count": 9,
   "metadata": {
    "id": "LHR19JwRY_1U"
   },
   "outputs": [
    {
     "name": "stdout",
     "output_type": "stream",
     "text": [
      "Solucion:\n",
      "[[ 2.  4.  6.  8.]\n",
      " [ 6. 12. 18. 24.]\n",
      " [10. 20. 30. 40.]\n",
      " [14. 28. 42. 56.]]\n"
     ]
    }
   ],
   "source": [
    "a = np.array([1, 3, 5, 7])\n",
    "b = np.array([2, 4, 6, 8])\n",
    "\n",
    "# La matriz c se corresponde con\n",
    "# ( b * a[0] )  \n",
    "# ( b * a[1] )\n",
    "# ( b * a[2] )\n",
    "# ( b * a[3] )\n",
    "c = np.zeros((4, 4))\n",
    "for i in range(len(a)):\n",
    "    c[i] = a[i] * b\n",
    "\n",
    "print(\"Solucion:\\n\" + str(c))"
   ]
  },
  {
   "cell_type": "markdown",
   "metadata": {
    "id": "95HrjAU0Y_-Y"
   },
   "source": [
    "## Ejercicio 9\n",
    "Construir una matriz de $5 \\times 5$ elementos con números aleatorios. Con una sola instrucción,cambiar todos los valores de la diagonal principal a cero."
   ]
  },
  {
   "cell_type": "code",
   "execution_count": 10,
   "metadata": {
    "id": "FM3guk0oZFz5"
   },
   "outputs": [
    {
     "name": "stdout",
     "output_type": "stream",
     "text": [
      "Solucion:\n",
      "[[0.         0.49663033 0.2612386  0.76349641 0.67057052]\n",
      " [0.35831538 0.         0.25761045 0.86094965 0.55442792]\n",
      " [0.35024626 0.75116029 0.         0.8342381  0.96292551]\n",
      " [0.93741397 0.9197614  0.72920736 0.         0.94314965]\n",
      " [0.22076043 0.84523778 0.29479567 0.29552033 0.        ]]\n"
     ]
    }
   ],
   "source": [
    "mat = np.random.rand(5, 5)\n",
    "np.fill_diagonal(mat, 0)\n",
    "print(\"Solucion:\\n\" + str(mat))"
   ]
  },
  {
   "cell_type": "markdown",
   "metadata": {
    "id": "KfIUCfozZF6s"
   },
   "source": [
    "## Ejercicio 10\n",
    "\n",
    "Dada la matriz $X = \\begin{pmatrix} 1&2&3&4 \\\\ 5&6&7&8 \\\\ 9&10&11&12 \\\\ 13&14&15&16 \\end{pmatrix}$, construir la matriz $Y = \\begin{pmatrix} 1&1&1&1 \\\\ 1&6&1&1 \\\\ 1&1&11&1 \\\\ 1&1&1&16 \\end{pmatrix}$"
   ]
  },
  {
   "cell_type": "code",
   "execution_count": 11,
   "metadata": {
    "id": "MFUIPIvAZnDp"
   },
   "outputs": [
    {
     "name": "stdout",
     "output_type": "stream",
     "text": [
      "Solucion:\n",
      "[[ 1.  1.  1.  1.]\n",
      " [ 1.  6.  1.  1.]\n",
      " [ 1.  1. 11.  1.]\n",
      " [ 1.  1.  1. 16.]]\n"
     ]
    }
   ],
   "source": [
    "x = np.array([[1, 2, 3, 4], [5, 6, 7, 8], [9, 10, 11, 12], [13, 14, 15, 16]])\n",
    "y = np.ones((4, 4))\n",
    "np.fill_diagonal(y, np.diagonal(x))\n",
    "print(\"Solucion:\\n\" + str(y))"
   ]
  },
  {
   "cell_type": "markdown",
   "metadata": {
    "id": "ryfebh85ZnJw"
   },
   "source": [
    "## Ejercicio 11\n",
    "Dado el vector $v = (2,4,6,8)$ y la matriz $M = \\begin{pmatrix} 1&1&1&1 \\\\2&2&2&2 \\\\ 3&3&3&3 \\\\ 4&4&4&4 \\end{pmatrix}$. Construir en una instrucción la matriz $W = \\begin{pmatrix} 2&1&1&1 \\\\2&4&2&2 \\\\ 3&3&6&3 \\\\ 4&4&4&8 \\end{pmatrix}$.\n"
   ]
  },
  {
   "cell_type": "code",
   "execution_count": 12,
   "metadata": {
    "id": "5dFZcphOaN29"
   },
   "outputs": [
    {
     "name": "stdout",
     "output_type": "stream",
     "text": [
      "Solucion:\n",
      "[[2 1 1 1]\n",
      " [2 4 2 2]\n",
      " [3 3 6 3]\n",
      " [4 4 4 8]]\n"
     ]
    }
   ],
   "source": [
    "v = np.array([2, 4, 6, 8])\n",
    "m = np.array([[1, 1, 1, 1], [2, 2, 2, 2], [3, 3, 3, 3], [4, 4, 4, 4]])\n",
    "np.fill_diagonal(m, v)\n",
    "print(\"Solucion:\\n\" + str(m))"
   ]
  },
  {
   "cell_type": "markdown",
   "metadata": {
    "id": "untuXX_xabLJ"
   },
   "source": [
    "## Ejercicio 12\n",
    "Dada la matriz $X = \\begin{pmatrix} 1&-2&-3&4 \\\\ -5&6&7&-8 \\\\ -9&-10&11&12 \\\\ 13&-14&-15&-16 \\end{pmatrix}$. Poner todos los elementos negativos a 20."
   ]
  },
  {
   "cell_type": "code",
   "execution_count": 13,
   "metadata": {
    "id": "2Xx2-7WMal4c"
   },
   "outputs": [
    {
     "name": "stdout",
     "output_type": "stream",
     "text": [
      "Solucion:\n",
      "[[ 1 20 20  4]\n",
      " [20  6  7 20]\n",
      " [20 20 11 12]\n",
      " [13 20 20 20]]\n"
     ]
    }
   ],
   "source": [
    "x = np.array([[1, -2, -3, 4], [-5, 6, 7, -8], [-9, -10, 11, 12], [13, -14, -15, -16]])\n",
    "sol = np.where(x > 0, x, 20)    # np.where(<condicion>, <retorno si verdadero>, <retorno si falso>)\n",
    "print(\"Solucion:\\n\" + str(sol))"
   ]
  },
  {
   "attachments": {},
   "cell_type": "markdown",
   "metadata": {
    "id": "-jQIN2fxal_6"
   },
   "source": [
    "## Ejercicio 13\n",
    "Dada la matriz $X$ del ejercicio 12, poner todos los elementos mayores que -5 y menores que 6 a 11."
   ]
  },
  {
   "cell_type": "code",
   "execution_count": 14,
   "metadata": {
    "id": "c6fR8U5qa4xx"
   },
   "outputs": [
    {
     "name": "stdout",
     "output_type": "stream",
     "text": [
      "Solucion:\n",
      " [[ 11  11  11  11]\n",
      " [ -5   6   7  -8]\n",
      " [ -9 -10  11  12]\n",
      " [ 13 -14 -15 -16]]\n"
     ]
    }
   ],
   "source": [
    "new_x = x.copy()\n",
    "sol = np.where((x > -5) & (x < 6), 11, x)\n",
    "print(\"Solucion:\\n\", sol)"
   ]
  },
  {
   "cell_type": "markdown",
   "metadata": {
    "id": "spo_IK6Va5Ei"
   },
   "source": [
    "### EJERCICIOS DE POLINOMIOS\n",
    "\n",
    "## Ejercicio 14\n",
    "\n",
    "Dados los polinomios $p(x) = x^6 - 15x^4 + 85x^4 - 225x^3 + 274x^2 - 120x$ y\n",
    "$q(x) = x^3-9x^2-26x-24$. \n",
    "\n",
    "1.  Representar los polinomios como ndarrays\n",
    "2.  Obtener los valores $p(-2), p(-3), q(-1)$\n",
    "3.  Obtener $p(x)+q(x)$\n",
    "4.  Obtener $p(x)-q(x)$\n",
    "5.  Obtener $p(x)+q(x)-p(x)*q(x)$\n",
    "6. Obtener el resultado de dividir $p$ por $q$."
   ]
  },
  {
   "cell_type": "code",
   "execution_count": 15,
   "metadata": {
    "id": "pxB4JYR-buXe"
   },
   "outputs": [
    {
     "name": "stdout",
     "output_type": "stream",
     "text": [
      "Polinomio p(x): [   1    0   70  225  274 -120    0]\n",
      "Polinomio q(x): [  1  -9 -26 -24]\n",
      "p(-2) = 720\n",
      "p(-1) = 3150\n",
      "q(-1) = -8\n",
      "p(x) + q(x) = [   1    0   70  226  265 -146  -24]\n",
      "p(x) - q(x) = [  1   0  70 224 283 -94  24]\n",
      "p(x) + q(x) - p(x) * q(x) = [   -1     9   -44   430  3571 10186 11670  3721 -3026   -24]\n",
      "p(x) / q(x) = (array([1.000e+00, 9.000e+00, 1.770e+02, 2.076e+03]), array([23776., 58104., 49824.]))\n"
     ]
    }
   ],
   "source": [
    "P = np.array([1, 0, 70, 225, 274, -120, 0])\n",
    "Q = np.array([1, -9, -26, -24])\n",
    "\n",
    "# Apartado 1\n",
    "print(\"Polinomio p(x): \" + str(P))\n",
    "print(\"Polinomio q(x): \" + str(Q))\n",
    "\n",
    "# Apartado 2\n",
    "p_minus2 = np.polyval(P, -2)\n",
    "p_minus3 = np.polyval(P, -3)\n",
    "q_minus1 = np.polyval(Q, -1)\n",
    "\n",
    "print(\"p(-2) = \" + str(p_minus2))\n",
    "print(\"p(-1) = \" + str(p_minus3))\n",
    "print(\"q(-1) = \" + str(q_minus1))\n",
    "\n",
    "# Apartado 3\n",
    "p_plus_q = np.polyadd(P, Q)\n",
    "print(\"p(x) + q(x) = \" + str(p_plus_q))\n",
    "\n",
    "# Apartado 4\n",
    "p_minus_q = np.polysub(P, Q)\n",
    "print(\"p(x) - q(x) = \" + str(p_minus_q))\n",
    "\n",
    "# Apartado 5\n",
    "op_res = np.polymul(P, Q)\n",
    "op_res = np.polysub(np.polyadd(P, Q), op_res)\n",
    "print(\"p(x) + q(x) - p(x) * q(x) = \" + str(op_res))\n",
    "\n",
    "# Apartado 6\n",
    "div = np.polydiv(P, Q)\n",
    "print(\"p(x) / q(x) = \" + str(div))"
   ]
  },
  {
   "attachments": {},
   "cell_type": "markdown",
   "metadata": {
    "id": "IucPvnSNbufg"
   },
   "source": [
    "## Ejercicio 15 <font color='red'>TODO</font>\n",
    "\n",
    "Dado el polionomio $r(x) = (x-2)^2 (x+3)(x-7)$\n",
    "1.  Dar la expresión de $r$ de forma simbólica\n",
    "2. Pasar la expresión simbólica a numérica\n",
    "3.  Obtener el resultado de dividir $r$ por $s(x) = x^2 -4x-21$\n",
    "4.  Obtener la expresión simbólica del polinomio resultante del apartado anterior.\n"
   ]
  },
  {
   "cell_type": "code",
   "execution_count": 16,
   "metadata": {
    "id": "Pqu178KBcJH2"
   },
   "outputs": [
    {
     "name": "stdout",
     "output_type": "stream",
     "text": [
      "Forma numerica: [  1.  -6. -13.  42.]\n",
      "r(x) / s(x) = (array([ 1., -2.]), array([0.]))\n"
     ]
    }
   ],
   "source": [
    "# Apartado 1\n",
    "# TODO\n",
    "\n",
    "# Apartado 2\n",
    "r = np.poly([2, -3 , 7])\n",
    "print(\"Forma numerica: \" + str(r))\n",
    "\n",
    "# Apartado 3\n",
    "s = np.array([1, -4, -21])\n",
    "res = np.polydiv(r, s)\n",
    "print(\"r(x) / s(x) = \" + str(res))\n",
    "\n",
    "# Apartado 4\n",
    "# TODO"
   ]
  },
  {
   "attachments": {},
   "cell_type": "markdown",
   "metadata": {
    "id": "kSg-Sk3vcJOn"
   },
   "source": [
    "## Ejercicio 16 <font color='red'>TODO</font>\n",
    "Halla el mínimo absoluto del polinomio $p(x) = x^2 + x + 1$.\n"
   ]
  },
  {
   "cell_type": "code",
   "execution_count": 18,
   "metadata": {},
   "outputs": [
    {
     "ename": "TypeError",
     "evalue": "'numpy.ndarray' object is not callable",
     "output_type": "error",
     "traceback": [
      "\u001b[0;31m---------------------------------------------------------------------------\u001b[0m",
      "\u001b[0;31mTypeError\u001b[0m                                 Traceback (most recent call last)",
      "Cell \u001b[0;32mIn[18], line 9\u001b[0m\n\u001b[1;32m      6\u001b[0m der \u001b[39m=\u001b[39m np\u001b[39m.\u001b[39mpolyder(p)\n\u001b[1;32m      7\u001b[0m roots \u001b[39m=\u001b[39m np\u001b[39m.\u001b[39mroots(p)\n\u001b[0;32m----> 9\u001b[0m min_val \u001b[39m=\u001b[39m \u001b[39mmin\u001b[39m([p(root) \u001b[39mfor\u001b[39;00m root \u001b[39min\u001b[39;00m roots])\n\u001b[1;32m     11\u001b[0m \u001b[39mprint\u001b[39m(\u001b[39m\"\u001b[39m\u001b[39mThe absolute minimum value is:\u001b[39m\u001b[39m\"\u001b[39m, min_val)\n",
      "Cell \u001b[0;32mIn[18], line 9\u001b[0m, in \u001b[0;36m<listcomp>\u001b[0;34m(.0)\u001b[0m\n\u001b[1;32m      6\u001b[0m der \u001b[39m=\u001b[39m np\u001b[39m.\u001b[39mpolyder(p)\n\u001b[1;32m      7\u001b[0m roots \u001b[39m=\u001b[39m np\u001b[39m.\u001b[39mroots(p)\n\u001b[0;32m----> 9\u001b[0m min_val \u001b[39m=\u001b[39m \u001b[39mmin\u001b[39m([p(root) \u001b[39mfor\u001b[39;00m root \u001b[39min\u001b[39;00m roots])\n\u001b[1;32m     11\u001b[0m \u001b[39mprint\u001b[39m(\u001b[39m\"\u001b[39m\u001b[39mThe absolute minimum value is:\u001b[39m\u001b[39m\"\u001b[39m, min_val)\n",
      "\u001b[0;31mTypeError\u001b[0m: 'numpy.ndarray' object is not callable"
     ]
    }
   ],
   "source": [
    "\n",
    "# Para hallar el mínimo absoluto tenemos que encontrar el minimo de entre estos valores:\n",
    "#   - El menor valor f(x) para todos los puntos donde f'(x) = 0.\n",
    "#   - El menor valor f(x) donde f no es derivable.\n",
    "#   - EL menor valor de f en los limites del intervalo.\n",
    "p = np.array([1, 1, 1])\n",
    "der = np.polyder(p)"
   ]
  }
 ],
 "metadata": {
  "colab": {
   "provenance": []
  },
  "kernelspec": {
   "display_name": "Python 3",
   "language": "python",
   "name": "python3"
  },
  "language_info": {
   "codemirror_mode": {
    "name": "ipython",
    "version": 3
   },
   "file_extension": ".py",
   "mimetype": "text/x-python",
   "name": "python",
   "nbconvert_exporter": "python",
   "pygments_lexer": "ipython3",
   "version": "3.10.6"
  },
  "vscode": {
   "interpreter": {
    "hash": "916dbcbb3f70747c44a77c7bcd40155683ae19c65e1c03b4aa3499c5328201f1"
   }
  }
 },
 "nbformat": 4,
 "nbformat_minor": 1
}

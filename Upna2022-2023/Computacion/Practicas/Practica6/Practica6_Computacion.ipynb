{
  "cells": [
    {
      "cell_type": "code",
      "execution_count": 1,
      "metadata": {
        "id": "r7GzrPWsLSNX"
      },
      "outputs": [],
      "source": [
        "# Importar librerías necesarias\n",
        "import numpy as np"
      ]
    },
    {
      "attachments": {},
      "cell_type": "markdown",
      "metadata": {},
      "source": [
        "## Comprobación por Roché-Frobenius\n",
        "    - Si Rank(A) <> Rank(A*) --> Incompatible\n",
        "    - Si Rank(A*) == nº incognitas --> Compatible determinado\n",
        "    - Si Rank(A*) < nº incognitas --> Compatible indeterminado"
      ]
    },
    {
      "cell_type": "code",
      "execution_count": 2,
      "metadata": {},
      "outputs": [],
      "source": [
        "def check_rank(A, E):\n",
        "    extended_rank = np.linalg.matrix_rank(E)\n",
        "    if (np.linalg.matrix_rank(A) != extended_rank):\n",
        "        raise ValueError(\"La matriz introducida es incompatible\")\n",
        "    if (extended_rank < A.shape[1]):\n",
        "        raise ValueError(\"La matriz introducida es compatible indeterminado\")"
      ]
    },
    {
      "cell_type": "markdown",
      "metadata": {
        "id": "d3o88vUabWXF"
      },
      "source": [
        "# **Práctica 6:** Resolución de sistemas de ecuaciones lineales con métodos iterativos (Jacobi y Gauss-Seidel)"
      ]
    },
    {
      "cell_type": "markdown",
      "metadata": {
        "id": "i9L5QrJQLSNj"
      },
      "source": [
        "El objetivo de esta práctica es programar los métodos de resolución iterativa de sistemas de ecuaciones lineales explicados en clase. \n",
        "\n",
        "Los programas deben recibir la matriz extendida del sistema $[A, b]$ (matriz de coeficientes y la última columna, la matriz de términos independientes).\n",
        "\n",
        "**NOTAS:** \n",
        "* Los métodos a implementar en las secciones 1.1 y 1.2 deben lanzar una Excepción si se recibe como entrada un sistema incompatible o compatible indeterminado.\n",
        "* Considerar un criterio de parada estudiado en la clase teórica. Considerar el error de $0.001$.\n",
        "* Tener en cuenta que el método pueda no converger. Por tanto, establecer un\n",
        "número máximo de iteraciones, por ejemplo $maxIter = 1000$\n",
        "* Al final, el programa deberá dar un aviso en pantalla informando si ha encontrado la solución o si la parada fue por la no convergencia. "
      ]
    },
    {
      "cell_type": "markdown",
      "metadata": {
        "id": "I2qcuLfdL2TU"
      },
      "source": [
        "# 1. Implementación de los métodos"
      ]
    },
    {
      "cell_type": "markdown",
      "metadata": {
        "id": "AC1m4eySbfVC"
      },
      "source": [
        "## 1.1. Método de Jacobi\n",
        "\n",
        "Implementa el método de Jacobi para resolver sistemas de ecuaciones lineales explicado en teoría."
      ]
    },
    {
      "cell_type": "code",
      "execution_count": 3,
      "metadata": {
        "id": "3XNimY7kgBuz"
      },
      "outputs": [],
      "source": [
        "def Jacobi(M, x_0):\n",
        "    # Comprueba que sea compatible determinado\n",
        "    size = M.shape[1] - 1\n",
        "    try:\n",
        "        check_rank(M[:,range(size)], M)\n",
        "    except ValueError as exception:\n",
        "        print(exception)\n",
        "        return None\n",
        "    \n",
        "    # Declaramos los criterios de parada\n",
        "    max_iters = 1000\n",
        "    tol = 1e-9\n",
        "\n",
        "    # Variables necesarias para la ejecucion\n",
        "    op = 0\n",
        "    coef_mat = M[:, range(size)]\n",
        "    ind_matrix = M[:, size]\n",
        "    pre_sol = x_0\n",
        "    \n",
        "    # Comienza el algoritmo\n",
        "    for num_iter in range(max_iters):\n",
        "        sol = np.zeros(M.shape[0])\n",
        "        for i in range(size):\n",
        "            op = 0\n",
        "            for j in range(size):\n",
        "                if i != j:\n",
        "                    op += coef_mat[i, j] * pre_sol[j]\n",
        "            sol[i] = (ind_matrix[i] - op) / coef_mat[i, i]\n",
        "        if np.linalg.norm(pre_sol - sol) < tol:\n",
        "            return sol\n",
        "        pre_sol = sol    \n",
        "    \n",
        "    print(\"Jacobi termina por maximo de iteraciones\")\n",
        "    return None"
      ]
    },
    {
      "cell_type": "markdown",
      "metadata": {
        "id": "fJD7zBTScD-m"
      },
      "source": [
        "## 1.2. Método de Gauss-Seidel"
      ]
    },
    {
      "cell_type": "markdown",
      "metadata": {
        "id": "Fhkx2Z_RXEOh"
      },
      "source": [
        "Implementa el método de Gauss-Seidel para resolver sistemas de ecuaciones lineales."
      ]
    },
    {
      "cell_type": "code",
      "execution_count": 4,
      "metadata": {
        "id": "bPBKRKoVLSNp"
      },
      "outputs": [],
      "source": [
        "def GaussSeidel(M, x_0):\n",
        "    # Comprueba que sea compatible determinado\n",
        "    size = M.shape[1] - 1\n",
        "    try:\n",
        "        check_rank(M[:,range(size)], M)\n",
        "    except ValueError as exception:\n",
        "        print(exception)\n",
        "        return None\n",
        "    \n",
        "    # Declaramos los criterios de parada\n",
        "    max_iters = 1000\n",
        "    tol = 1e-9\n",
        "\n",
        "    # Variables necesarias para la ejecucion\n",
        "    op1 = 0\n",
        "    op2 = 0\n",
        "    coef_mat = M[:, range(size)]\n",
        "    ind_matrix = M[:, size]\n",
        "    sol = x_0\n",
        " \n",
        "    # Comienza el algoritmo\n",
        "    for num_iter in range(max_iters):\n",
        "        for i in range(size):\n",
        "            op1 = np.dot(coef_mat[i, :i], sol[:i])\n",
        "            op2 = np.dot(coef_mat[i, i + 1:], sol[i + 1:])\n",
        "            sol[i] = (ind_matrix[i] - op1 - op2) / coef_mat[i, i]\n",
        "        if np.linalg.norm(np.dot(coef_mat, sol) - ind_matrix) < tol:\n",
        "            return sol\n",
        "\n",
        "    print(\"Gauss-Seidel termina por maximo de iteraciones\")\n",
        "    return None"
      ]
    },
    {
      "cell_type": "markdown",
      "metadata": {
        "id": "yFfE8dOgLxbR"
      },
      "source": [
        "# 2. Aplicación de los métodos"
      ]
    },
    {
      "cell_type": "markdown",
      "metadata": {
        "id": "1fmqUBTlMBin"
      },
      "source": [
        "En este apartado, utiliza uno de los dos métodos implementados en la sección anterior para obtener sus resultados.\n",
        "\n",
        "NOTA: Intentar reescribir el sistema para garantizar la convergencia, si posible.\n"
      ]
    },
    {
      "cell_type": "markdown",
      "metadata": {
        "id": "wQqrnIzLMSgF"
      },
      "source": [
        "## 2.1. Ejercicio A\n",
        "\n",
        "Resuelve los siguientes sistemas:\n",
        "\n",
        "1.  $\\begin{cases}\n",
        "    2x_1 + 4x_3 = 0\\\\\n",
        "    6x_1 - 3x_2 + 7x_3 = 1\\\\\n",
        "    -4x_1 + 6x_2 + 2x_3 = 3\n",
        "    \\end{cases}$\n",
        "    \n",
        "3. $\\begin{cases}\n",
        "    6x_1 - 9x_2 + x_3 + 4x_5 = -5\\\\\n",
        "    -2x_1 + 3x_2 - x_3 + 5x_4 + 9x_5 = -24\\\\\n",
        "    x_2 - x_3 + 7x_4 + 2x_5 = -10\\\\\n",
        "    5x_1 - 6x_2 + 8x_3 - x_4 = 5\\\\\n",
        "    3x_1 + 7x_2 - 2x_3 + x_4 + 5x_5 = 2\n",
        "    \\end{cases}$\n",
        "\n",
        "Devuelve un ndarray para cada sistema\n"
      ]
    },
    {
      "cell_type": "code",
      "execution_count": 5,
      "metadata": {
        "id": "VMBB-EHmMSAG"
      },
      "outputs": [
        {
          "name": "stdout",
          "output_type": "stream",
          "text": [
            "La matriz introducida es incompatible\n",
            "La matriz introducida es incompatible\n",
            "Jacobi termina por maximo de iteraciones\n",
            "Gauss-Seidel termina por maximo de iteraciones\n",
            "Solucion 1: Jacobi: None Gauss-Seidel: None\n",
            "Solucion 2: Jacobi: None Gauss-Seidel: None\n"
          ]
        },
        {
          "name": "stderr",
          "output_type": "stream",
          "text": [
            "C:\\Users\\MSI\\AppData\\Local\\Temp\\ipykernel_15900\\1075780012.py:27: RuntimeWarning: overflow encountered in double_scalars\n",
            "  op += coef_mat[i, j] * pre_sol[j]\n",
            "C:\\Users\\MSI\\AppData\\Local\\Temp\\ipykernel_15900\\1075780012.py:27: RuntimeWarning: invalid value encountered in double_scalars\n",
            "  op += coef_mat[i, j] * pre_sol[j]\n"
          ]
        }
      ],
      "source": [
        "sys1_coef = np.array([[2, 0, 4], \n",
        "                      [6., -3., 7], \n",
        "                      [-4, 6, 2]], dtype=float)\n",
        "sys1_ind = np.array([[0], [1], [3]], dtype=float)\n",
        "sys1_ext = np.hstack((sys1_coef, sys1_ind))\n",
        "res_1_jb = Jacobi(sys1_ext, np.array([[0], [0], [0]], dtype=float))\n",
        "res_1_gs = GaussSeidel(sys1_ext, np.array([[0], [0], [0]], dtype=float))\n",
        "\n",
        "sys2_coef = np.array([[6, -9, 1, 0, 4], \n",
        "                      [-2, 3, -1, 5, 9], \n",
        "                      [0, 1, 1, 7, 2], \n",
        "                      [5, -6, 8, -1, 0], \n",
        "                      [3, 7, -2, 1, 5]], dtype=float)\n",
        "sys2_ind = np.array([[-5], [-24], [-10], [5], [2]])\n",
        "sys2_ext = np.hstack((sys2_coef, sys2_ind))\n",
        "res_2_jb = Jacobi(sys2_ext, np.array([[0], [0], [0], [0], [0]], dtype=float))\n",
        "res_2_gs = GaussSeidel(sys2_ext, np.array([[0], [0], [0], [0], [0]], dtype=float))\n",
        "\n",
        "print(f'Solucion 1: Jacobi: {res_1_jb} Gauss-Seidel: {res_1_gs}')\n",
        "print(f'Solucion 2: Jacobi: {res_2_jb} Gauss-Seidel: {res_2_gs}')"
      ]
    },
    {
      "cell_type": "markdown",
      "metadata": {
        "id": "yPwi_SW9MtKE"
      },
      "source": [
        "## 2.2. Ejercicio B\n",
        "\n",
        "Problema. Un bar va a renovar el mobiliario y te ha pedido asesoramiento. Desean instalar mesas de tres tamaños: \n",
        "* Pequeñas, de 5 asientos cada una\n",
        "* Medianas premium, de 10 asientos cada una\n",
        "* Grandes, de 20 asientos cada una\n",
        "\n",
        "Desean que en total haya 50 mesas, con capacidad para 525 comensales. Se ha calculado que el coste de cada mesa pequeña (con sus asientos) es de 100 euros; la mediana (con asientos), más cara, 500 euros; y la grande (con asientos) 250 euros. Se tiene un presupuesto de 17550 euros.\n",
        "\n",
        "Resolver: \n",
        "\n",
        "1. Plantear el sistema de ecuaciones a resolver\n",
        "2. Utilizar el método de Jacobi o Gauss-Seidel para calcular cuántas mesas deberán encargarse. Prueba a inicializar la solución con $\\mathbf{x}^{(0)} = (0,0,0)$ y luego con otra que satisfaga la primera ecuación como por ejemplo $\\mathbf{x}^{(0)} = (10,30,10)$"
      ]
    },
    {
      "cell_type": "markdown",
      "metadata": {
        "id": "JNl9BqzQwaCJ"
      },
      "source": [
        "1. Sistema de ecuaciones. Planteamiento:"
      ]
    },
    {
      "cell_type": "code",
      "execution_count": 6,
      "metadata": {
        "id": "aLb9SEgXifYn"
      },
      "outputs": [],
      "source": [
        "## Sistema de ecuaciones\n",
        "# x + y + z = 50\n",
        "# 5x + 10y + 20z = 525\n",
        "# 100x + 500y + 250z = 17550\n",
        "## Con el fin de intentar garantizar convergencia\n",
        "## reorganizamos el sistema para que al menos 2\n",
        "## ecuaciones sean diagonalmente dominantes:\n",
        "# x + y + z = 50\n",
        "# 100x + 500y + 250z = 17550\n",
        "# 5x + 10y + 20z = 525\n",
        "\n",
        "eq_coef = np.array([[1, 1, 1],\n",
        "                    [100, 500, 250], \n",
        "                    [5, 10, 20]], dtype=float)\n",
        "eq_ind = np.array([[50], [17550], [525]], dtype=float)\n",
        "eq_complete = np.hstack((eq_coef, eq_ind))"
      ]
    },
    {
      "cell_type": "markdown",
      "metadata": {
        "id": "b9ZwG3UtwegR"
      },
      "source": [
        "2. Resolución. Devuelve un ndarray para la solución del sistema."
      ]
    },
    {
      "cell_type": "code",
      "execution_count": 7,
      "metadata": {
        "id": "93pFBEnKBlbx"
      },
      "outputs": [
        {
          "name": "stdout",
          "output_type": "stream",
          "text": [
            "Gauss-Seidel termina por maximo de iteraciones\n",
            "Solucion [0. 0. 0.]: jacobi: [13. 28.  9.] gauss-seidel: [13. 28.  9.]\n",
            "Solucion [[10.]\n",
            " [30.]\n",
            " [10.]]: jacobi: [13. 28.  9.] gauss-seidel: None\n"
          ]
        }
      ],
      "source": [
        "x_0 = np.zeros(eq_complete.shape[0])\n",
        "sol_jb_0 = Jacobi(eq_complete, x_0.copy())\n",
        "sol_gs_0 = GaussSeidel(eq_complete, x_0.copy())\n",
        "\n",
        "\n",
        "x_1 = np.array([[10], [30], [10]], dtype=float)\n",
        "sol_jb_1 = Jacobi(eq_complete, x_1.copy())\n",
        "sol_gs_1 = GaussSeidel(eq_complete, x_1.copy())\n",
        "\n",
        "print(f'Solucion {x_0}: jacobi: {sol_jb_0} gauss-seidel: {sol_gs_0}')\n",
        "print(f'Solucion {x_1}: jacobi: {sol_jb_1} gauss-seidel: {sol_gs_1}')"
      ]
    },
    {
      "cell_type": "markdown",
      "metadata": {
        "id": "6148BgDF1Pwk"
      },
      "source": [
        "## 2.3. Ejercicio C"
      ]
    },
    {
      "cell_type": "markdown",
      "metadata": {
        "id": "eVufEVh21TyS"
      },
      "source": [
        "Estudia la solución del sistema formado por \n",
        "$$ 4x_1 + x_2 = 1 $$\n",
        "$$ 4x_2 + x_3 = 2 $$\n",
        "$$ 4x_3 + x_4 = 3 $$\n",
        "$$ ... $$\n",
        "$$ 4x_{10} + x_{11} = 10 $$\n",
        "$$ 4x_{11} = 11 $$\n"
      ]
    },
    {
      "cell_type": "markdown",
      "metadata": {
        "id": "KxRVJQZIyeeO"
      },
      "source": [
        "1. Representar las matrices $A$ y $b$ del sistema"
      ]
    },
    {
      "cell_type": "code",
      "execution_count": 8,
      "metadata": {
        "id": "cE8kDAjA8SP7"
      },
      "outputs": [
        {
          "name": "stdout",
          "output_type": "stream",
          "text": [
            "[[ 4.  1.  0.  0.  0.  0.  0.  0.  0.  0.  0.  1.]\n",
            " [ 0.  4.  1.  0.  0.  0.  0.  0.  0.  0.  0.  2.]\n",
            " [ 0.  0.  4.  1.  0.  0.  0.  0.  0.  0.  0.  3.]\n",
            " [ 0.  0.  0.  4.  1.  0.  0.  0.  0.  0.  0.  4.]\n",
            " [ 0.  0.  0.  0.  4.  1.  0.  0.  0.  0.  0.  5.]\n",
            " [ 0.  0.  0.  0.  0.  4.  1.  0.  0.  0.  0.  6.]\n",
            " [ 0.  0.  0.  0.  0.  0.  4.  1.  0.  0.  0.  7.]\n",
            " [ 0.  0.  0.  0.  0.  0.  0.  4.  1.  0.  0.  8.]\n",
            " [ 0.  0.  0.  0.  0.  0.  0.  0.  4.  1.  0.  9.]\n",
            " [ 0.  0.  0.  0.  0.  0.  0.  0.  0.  4.  1. 10.]\n",
            " [ 0.  0.  0.  0.  0.  0.  0.  0.  0.  0.  4. 11.]]\n"
          ]
        }
      ],
      "source": [
        "coefs = np.zeros((11,11))\n",
        "ind_terms = np.array([[i + 1] for i in range(11)])\n",
        "\n",
        "for i in range(coefs.shape[0]):\n",
        "    for j in range(coefs.shape[1]):\n",
        "        if i == j:\n",
        "            coefs[i, j] = 4\n",
        "            if j + 1 < 11:\n",
        "                coefs[i, j + 1] = 1\n",
        "\n",
        "M = np.hstack((coefs, ind_terms))\n",
        "print(M)"
      ]
    },
    {
      "cell_type": "markdown",
      "metadata": {
        "id": "zMfPu7HsylJC"
      },
      "source": [
        "2. Obtener la solución de las variables $x_1, x_2, \\ldots, x_{11}$. Devuelve un ndarray de 11 posiciones para la solución del sistema."
      ]
    },
    {
      "cell_type": "code",
      "execution_count": 9,
      "metadata": {
        "id": "Rk18RvtQBjTU"
      },
      "outputs": [
        {
          "name": "stdout",
          "output_type": "stream",
          "text": [
            "Por Jacobi: ([0.16000056 0.35999775 0.560009   0.75996399 0.96014404 1.15942383\n",
            " 1.36230469 1.55078125 1.796875   1.8125     2.75      ])\n",
            "Gauss-Seidel termina por maximo de iteraciones\n",
            "Por Gauss: (None)\n"
          ]
        }
      ],
      "source": [
        "print(f'Por Jacobi: ({Jacobi(M,  np.array([[0] for i in range(11)], dtype=float))})')\n",
        "print(f'Por Gauss: ({GaussSeidel(M,  np.array([[0] for i in range(11)], dtype=float))})')"
      ]
    }
  ],
  "metadata": {
    "colab": {
      "provenance": []
    },
    "kernelspec": {
      "display_name": "Python 3",
      "name": "python3"
    },
    "language_info": {
      "codemirror_mode": {
        "name": "ipython",
        "version": 3
      },
      "file_extension": ".py",
      "mimetype": "text/x-python",
      "name": "python",
      "nbconvert_exporter": "python",
      "pygments_lexer": "ipython3",
      "version": "3.10.5"
    }
  },
  "nbformat": 4,
  "nbformat_minor": 0
}

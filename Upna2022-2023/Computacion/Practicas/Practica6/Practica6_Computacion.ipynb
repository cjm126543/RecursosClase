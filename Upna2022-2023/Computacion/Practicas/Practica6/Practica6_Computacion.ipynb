{
  "cells": [
    {
      "cell_type": "code",
      "execution_count": 2,
      "metadata": {
        "id": "r7GzrPWsLSNX"
      },
      "outputs": [],
      "source": [
        "# Importar librerías necesarias\n",
        "import numpy as np\n",
        "import sympy as sp"
      ]
    },
    {
      "attachments": {},
      "cell_type": "markdown",
      "metadata": {},
      "source": [
        "## Comprobación por Roché-Frobenius\n",
        "    - Si Rank(A) <> Rank(A*) --> Incompatible\n",
        "    - Si Rank(A*) == nº incognitas --> Compatible determinado\n",
        "    - Si Rank(A*) < nº incognitas --> Compatible indeterminado"
      ]
    },
    {
      "cell_type": "code",
      "execution_count": 6,
      "metadata": {},
      "outputs": [],
      "source": [
        "def check_rank(A, E):\n",
        "    extended_rank = np.linalg.matrix_rank(E)\n",
        "    if (np.linalg.matrix_rank(A) != extended_rank):\n",
        "        raise ValueError(\"La matriz introducida es incompatible\")\n",
        "    if (extended_rank < A.shape[1]):\n",
        "        raise ValueError(\"La matriz introducida es compatible indeterminado\")"
      ]
    },
    {
      "cell_type": "markdown",
      "metadata": {
        "id": "d3o88vUabWXF"
      },
      "source": [
        "# **Práctica 6:** Resolución de sistemas de ecuaciones lineales con métodos iterativos (Jacobi y Gauss-Seidel)"
      ]
    },
    {
      "cell_type": "markdown",
      "metadata": {
        "id": "i9L5QrJQLSNj"
      },
      "source": [
        "El objetivo de esta práctica es programar los métodos de resolución iterativa de sistemas de ecuaciones lineales explicados en clase. \n",
        "\n",
        "Los programas deben recibir la matriz extendida del sistema $[A, b]$ (matriz de coeficientes y la última columna, la matriz de términos independientes).\n",
        "\n",
        "**NOTAS:** \n",
        "* Los métodos a implementar en las secciones 1.1 y 1.2 deben lanzar una Excepción si se recibe como entrada un sistema incompatible o compatible indeterminado.\n",
        "* Considerar un criterio de parada estudiado en la clase teórica. Considerar el error de $0.001$.\n",
        "* Tener en cuenta que el método pueda no converger. Por tanto, establecer un\n",
        "número máximo de iteraciones, por ejemplo $maxIter = 1000$\n",
        "* Al final, el programa deberá dar un aviso en pantalla informando si ha encontrado la solución o si la parada fue por la no convergencia. "
      ]
    },
    {
      "cell_type": "markdown",
      "metadata": {
        "id": "I2qcuLfdL2TU"
      },
      "source": [
        "# 1. Implementación de los métodos"
      ]
    },
    {
      "cell_type": "markdown",
      "metadata": {
        "id": "AC1m4eySbfVC"
      },
      "source": [
        "## 1.1. Método de Jacobi\n",
        "\n",
        "Implementa el método de Jacobi para resolver sistemas de ecuaciones lineales explicado en teoría."
      ]
    },
    {
      "cell_type": "code",
      "execution_count": 20,
      "metadata": {
        "id": "3XNimY7kgBuz"
      },
      "outputs": [],
      "source": [
        "def Jacobi(M, x_0):\n",
        "    # Comprueba que sea compatible determinado\n",
        "    size = M.shape[1] - 1\n",
        "    try:\n",
        "        check_rank(M[:,range(size)], M)\n",
        "    except ValueError as exception:\n",
        "        print(exception)\n",
        "        return None\n",
        "    \n",
        "    # Comienza el algoritmo\n",
        "    diagonal_mat = np.diag(np.diag(M))\n",
        "    inv_diag_mat = (-1) * np.linalg.inv(diagonal_mat)\n",
        "    cleared_mat = np.subtract(M[:, range(size)], diagonal_mat)\n",
        "    \n",
        "    iters = 0\n",
        "    tol = 0.001\n",
        "    maxIter = 1000\n",
        "    sol_ant = x_0\n",
        "    sol = np.add(np.matmul(inv_diag_mat, np.matmul(cleared_mat, sol_ant)), np.matmul(inv_diag_mat, M[:, size]))\n",
        "    \n",
        "    # x = -D^-1 * A_2 * x + D^-1 * b\n",
        "    while True:\n",
        "        \n",
        "        if (iters >= maxIter):\n",
        "            print(\"Ejecucion terminada por iteraciones superadas\")\n",
        "            break\n",
        "        \n",
        "        op1 = np.matmul(inv_diag_mat, M[:, size])\n",
        "        op2 = np.matmul(cleared_mat, sol_ant) ## Invalid value in matmul, last columns have NaN\n",
        "\n",
        "        op3 = np.matmul(inv_diag_mat, op2)\n",
        "        sol = np.add(op3, op1)\n",
        "        \n",
        "        if (np.linalg.norm(sol_ant - sol) < tol):\n",
        "            break\n",
        "        \n",
        "        sol_ant = sol\n",
        "        iters += 1\n",
        "        \n",
        "    return sol"
      ]
    },
    {
      "cell_type": "markdown",
      "metadata": {
        "id": "fJD7zBTScD-m"
      },
      "source": [
        "## 1.2. Método de Gauss-Seidel"
      ]
    },
    {
      "cell_type": "markdown",
      "metadata": {
        "id": "Fhkx2Z_RXEOh"
      },
      "source": [
        "Implementa el método de Gauss-Seidel para resolver sistemas de ecuaciones lineales."
      ]
    },
    {
      "cell_type": "code",
      "execution_count": 21,
      "metadata": {
        "id": "bPBKRKoVLSNp"
      },
      "outputs": [],
      "source": [
        "def GaussSeidel(M, x_0):\n",
        "    # Comprueba que sea compatible determinado\n",
        "    size = M.shape[1] - 1\n",
        "    try:\n",
        "        check_rank(M[:,range(size)], M)\n",
        "    except ValueError as exception:\n",
        "        print(exception)\n",
        "        return None\n",
        "    \n",
        "    iters = 0\n",
        "    tol = 0.001\n",
        "    maxIter = 1000\n",
        "    sol_ant = x_0\n",
        "    sol = np.zeros(M.shape[0])\n",
        "    coefficient_matrix = M[:, range(size)]\n",
        "    independent_matrix = M[:, size]\n",
        "\n",
        "    # Comienza el algoritmo\n",
        "    while True:\n",
        "\n",
        "        if (iters >= maxIter):\n",
        "            print(\"Ejecucion terminada por iteraciones superadas\")\n",
        "            break\n",
        "\n",
        "        op1 = np.dot(coefficient_matrix[iters, :iters], sol[:iters])\n",
        "        op2 = np.dot(coefficient_matrix[iters, iters + 1:], sol_ant[iters + 1:])\n",
        "        sol[iters] = (independent_matrix[iters] - op1 - op2) / coefficient_matrix[iters, iters]\n",
        "\n",
        "        if (np.linalg.norm(sol_ant - sol) < tol):\n",
        "            break\n",
        "\n",
        "        sol_ant = sol\n",
        "\n",
        "    return sol"
      ]
    },
    {
      "cell_type": "markdown",
      "metadata": {
        "id": "yFfE8dOgLxbR"
      },
      "source": [
        "# 2. Aplicación de los métodos"
      ]
    },
    {
      "cell_type": "markdown",
      "metadata": {
        "id": "1fmqUBTlMBin"
      },
      "source": [
        "En este apartado, utiliza uno de los dos métodos implementados en la sección anterior para obtener sus resultados.\n",
        "\n",
        "NOTA: Intentar reescribir el sistema para garantizar la convergencia, si posible.\n"
      ]
    },
    {
      "cell_type": "markdown",
      "metadata": {
        "id": "wQqrnIzLMSgF"
      },
      "source": [
        "## 2.1. Ejercicio A\n",
        "\n",
        "Resuelve los siguientes sistemas:\n",
        "\n",
        "1.  $\\begin{cases}\n",
        "    2x_1 + 4x_3 = 0\\\\\n",
        "    6x_1 - 3x_2 + 7x_3 = 1\\\\\n",
        "    -4x_1 + 6x_2 + 2x_3 = 3\n",
        "    \\end{cases}$\n",
        "    \n",
        "3. $\\begin{cases}\n",
        "    6x_1 - 9x_2 + x_3 + 4x_5 = -5\\\\\n",
        "    -2x_1 + 3x_2 - x_3 + 5x_4 + 9x_5 = -24\\\\\n",
        "    x_2 - x_3 + 7x_4 + 2x_5 = -10\\\\\n",
        "    5x_1 - 6x_2 + 8x_3 - x_4 = 5\\\\\n",
        "    3x_1 + 7x_2 - 2x_3 + x_4 + 5x_5 = 2\n",
        "    \\end{cases}$\n",
        "\n",
        "Devuelve un ndarray para cada sistema\n"
      ]
    },
    {
      "cell_type": "code",
      "execution_count": 15,
      "metadata": {
        "id": "VMBB-EHmMSAG"
      },
      "outputs": [
        {
          "name": "stdout",
          "output_type": "stream",
          "text": [
            "La matriz introducida es incompatible\n",
            "La matriz introducida es incompatible\n",
            "Ejecucion terminada por iteraciones superadas\n",
            "Solucion 1: Jacobi: None Gauss-Seidel: None\n",
            "Solucion 2: Jacobi: [nan nan nan nan nan] Gauss-Seidel: [-0.83333333  0.          0.          0.          0.        ]\n"
          ]
        },
        {
          "name": "stderr",
          "output_type": "stream",
          "text": [
            "C:\\Users\\MSI\\AppData\\Local\\Temp\\ipykernel_4872\\2684454598.py:29: RuntimeWarning: overflow encountered in matmul\n",
            "  op2 = np.matmul(cleared_mat, sol_ant) ## Invalid value in matmul, last columns have NaN\n",
            "C:\\Users\\MSI\\AppData\\Local\\Temp\\ipykernel_4872\\2684454598.py:29: RuntimeWarning: invalid value encountered in matmul\n",
            "  op2 = np.matmul(cleared_mat, sol_ant) ## Invalid value in matmul, last columns have NaN\n",
            "C:\\Users\\MSI\\AppData\\Local\\Temp\\ipykernel_4872\\2684454598.py:31: RuntimeWarning: invalid value encountered in matmul\n",
            "  op3 = np.matmul(inv_diag_mat, op2)\n"
          ]
        }
      ],
      "source": [
        "sys1_coef = np.array([[2, 0, 4], [6, -3, 7], [-4, 6, 2]])\n",
        "sys1_ind = np.array([[0], [1], [3]])\n",
        "sys1_ext = np.hstack((sys1_coef, sys1_ind))\n",
        "res_1_jb = Jacobi(sys1_ext)\n",
        "res_1_gs = GaussSeidel(sys1_ext)\n",
        "\n",
        "sys2_coef = np.array([[6, -9, 1, 0, 4], [-2, 3, -1, 5, 9], [0, 1, 1, 7, 2], [5, -6, 8, -1, 0], [3, 7, -2, 1, 5]])\n",
        "sys2_ind = np.array([[-5], [-24], [-10], [5], [2]])\n",
        "sys2_ext = np.hstack((sys2_coef, sys2_ind))\n",
        "res_2_jb = Jacobi(sys2_ext)\n",
        "res_2_gs = GaussSeidel(sys2_ext)\n",
        "\n",
        "print(f'Solucion 1: Jacobi: {res_1_jb} Gauss-Seidel: {res_1_gs}')\n",
        "print(f'Solucion 2: Jacobi: {res_2_jb} Gauss-Seidel: {res_2_gs}')"
      ]
    },
    {
      "cell_type": "markdown",
      "metadata": {
        "id": "yPwi_SW9MtKE"
      },
      "source": [
        "## 2.2. Ejercicio B\n",
        "\n",
        "Problema. Un bar va a renovar el mobiliario y te ha pedido asesoramiento. Desean instalar mesas de tres tamaños: \n",
        "* Pequeñas, de 5 asientos cada una\n",
        "* Medianas premium, de 10 asientos cada una\n",
        "* Grandes, de 20 asientos cada una\n",
        "\n",
        "Desean que en total haya 50 mesas, con capacidad para 525 comensales. Se ha calculado que el coste de cada mesa pequeña (con sus asientos) es de 100 euros; la mediana (con asientos), más cara, 500 euros; y la grande (con asientos) 250 euros. Se tiene un presupuesto de 17550 euros.\n",
        "\n",
        "Resolver: \n",
        "\n",
        "1. Plantear el sistema de ecuaciones a resolver\n",
        "2. Utilizar el método de Jacobi o Gauss-Seidel para calcular cuántas mesas deberán encargarse. Prueba a inicializar la solución con $\\mathbf{x}^{(0)} = (0,0,0)$ y luego con otra que satisfaga la primera ecuación como por ejemplo $\\mathbf{x}^{(0)} = (10,30,10)$"
      ]
    },
    {
      "cell_type": "markdown",
      "metadata": {
        "id": "JNl9BqzQwaCJ"
      },
      "source": [
        "1. Sistema de ecuaciones. Planteamiento:"
      ]
    },
    {
      "cell_type": "code",
      "execution_count": 17,
      "metadata": {
        "id": "aLb9SEgXifYn"
      },
      "outputs": [],
      "source": [
        "## Sistema de ecuaciones\n",
        "# x + y + z = 50\n",
        "# 5x + 10y + 20z = 525\n",
        "# 100x + 500y + 250z = 17550\n",
        "\n",
        "eq_coef = np.array([[1, 1, 1], [5, 10, 20], [100, 500, 250]])\n",
        "eq_ind = np.array([[50], [525], [17550]])\n",
        "eq_complete = np.hstack((eq_coef, eq_ind))"
      ]
    },
    {
      "cell_type": "markdown",
      "metadata": {
        "id": "b9ZwG3UtwegR"
      },
      "source": [
        "2. Resolución. Devuelve un ndarray para la solución del sistema."
      ]
    },
    {
      "cell_type": "code",
      "execution_count": 22,
      "metadata": {
        "id": "93pFBEnKBlbx"
      },
      "outputs": [
        {
          "name": "stdout",
          "output_type": "stream",
          "text": [
            "Ejecucion terminada por iteraciones superadas\n",
            "Ejecucion terminada por iteraciones superadas\n",
            "Solucion [0. 0. 0.]: jacobi: [nan nan nan] gauss-seidel: [50.  0.  0.]\n",
            "Solucion [[10]\n",
            " [30]\n",
            " [10]]: jacobi: [[nan nan nan]\n",
            " [nan nan nan]\n",
            " [nan nan nan]] gauss-seidel: [50.  0.  0.]\n"
          ]
        },
        {
          "name": "stderr",
          "output_type": "stream",
          "text": [
            "C:\\Users\\MSI\\AppData\\Local\\Temp\\ipykernel_4872\\305773150.py:29: RuntimeWarning: overflow encountered in matmul\n",
            "  op2 = np.matmul(cleared_mat, sol_ant) ## Invalid value in matmul, last columns have NaN\n",
            "C:\\Users\\MSI\\AppData\\Local\\Temp\\ipykernel_4872\\305773150.py:31: RuntimeWarning: invalid value encountered in matmul\n",
            "  op3 = np.matmul(inv_diag_mat, op2)\n"
          ]
        }
      ],
      "source": [
        "x_0 = np.zeros(eq_complete.shape[0])\n",
        "sol_jb_0 = Jacobi(eq_complete, x_0)\n",
        "sol_gs_0 = GaussSeidel(eq_complete, x_0)\n",
        "\n",
        "x_1 = np.array([[10], [30], [10]])\n",
        "sol_jb_1 = Jacobi(eq_complete, x_1)\n",
        "sol_gs_1 = GaussSeidel(eq_complete, x_1)\n",
        "\n",
        "\n",
        "print(f'Solucion {x_0}: jacobi: {sol_jb_0} gauss-seidel: {sol_gs_0}')\n",
        "print(f'Solucion {x_1}: jacobi: {sol_jb_1} gauss-seidel: {sol_gs_1}')"
      ]
    },
    {
      "cell_type": "markdown",
      "metadata": {
        "id": "6148BgDF1Pwk"
      },
      "source": [
        "## 2.3. Ejercicio C"
      ]
    },
    {
      "cell_type": "markdown",
      "metadata": {
        "id": "eVufEVh21TyS"
      },
      "source": [
        "Estudia la solución del sistema formado por \n",
        "$$ 4x_1 + x_2 = 1 $$\n",
        "$$ 4x_2 + x_3 = 2 $$\n",
        "$$ 4x_3 + x_4 = 3 $$\n",
        "$$ ... $$\n",
        "$$ 4x_{10} + x_{11} = 10 $$\n",
        "$$ 4x_{11} = 11 $$\n"
      ]
    },
    {
      "cell_type": "markdown",
      "metadata": {
        "id": "KxRVJQZIyeeO"
      },
      "source": [
        "1. Representar las matrices $A$ y $b$ del sistema"
      ]
    },
    {
      "cell_type": "code",
      "execution_count": null,
      "metadata": {
        "id": "cE8kDAjA8SP7"
      },
      "outputs": [],
      "source": []
    },
    {
      "cell_type": "markdown",
      "metadata": {
        "id": "zMfPu7HsylJC"
      },
      "source": [
        "2. Obtener la solución de las variables $x_1, x_2, \\ldots, x_{11}$. Devuelve un ndarray de 11 posiciones para la solución del sistema."
      ]
    },
    {
      "cell_type": "code",
      "execution_count": null,
      "metadata": {
        "id": "Rk18RvtQBjTU"
      },
      "outputs": [],
      "source": []
    }
  ],
  "metadata": {
    "colab": {
      "provenance": []
    },
    "kernelspec": {
      "display_name": "Python 3",
      "name": "python3"
    },
    "language_info": {
      "codemirror_mode": {
        "name": "ipython",
        "version": 3
      },
      "file_extension": ".py",
      "mimetype": "text/x-python",
      "name": "python",
      "nbconvert_exporter": "python",
      "pygments_lexer": "ipython3",
      "version": "3.10.5"
    }
  },
  "nbformat": 4,
  "nbformat_minor": 0
}

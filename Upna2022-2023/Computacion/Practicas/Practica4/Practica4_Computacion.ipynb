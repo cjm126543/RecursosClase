{
 "cells": [
  {
   "cell_type": "markdown",
   "metadata": {
    "id": "d3o88vUabWXF"
   },
   "source": [
    "# **PRÁCTICA 4:** Resolución aproximada de ecuaciones mediante los métodos de Horner y Sturm"
   ]
  },
  {
   "cell_type": "markdown",
   "metadata": {
    "id": "AC1m4eySbfVC"
   },
   "source": [
    "## 1. Método de Horner\n",
    "\n",
    "Implementar el Método de Horner para que, dado un polinomio $P(x)$ de\n",
    "cualquier grado y un punto $x_0 \\in \\mathbb{R}$, se determine otro polinomio $Q(x)$ tal que\n",
    "\n",
    "$$ P(x) = (x-x_0) \\: Q(x) + P(x_0) $$"
   ]
  },
  {
   "cell_type": "code",
   "execution_count": 1,
   "metadata": {
    "id": "3XNimY7kgBuz"
   },
   "outputs": [],
   "source": [
    "import numpy as np"
   ]
  },
  {
   "cell_type": "code",
   "execution_count": 2,
   "metadata": {
    "id": "BEU4cdvHbP5u"
   },
   "outputs": [],
   "source": [
    "def Horner(P,x_0):\n",
    "    res = np.zeros([len(P)])\n",
    "    res[0] = P[0]\n",
    "    for i in range(1, len(P)):\n",
    "        res[i] = (res[i - 1] * x_0) + P[i]\n",
    "    Q = res[0:(len(P) - 1)]\n",
    "    resto = res[-1]\n",
    "    return Q, resto"
   ]
  },
  {
   "attachments": {},
   "cell_type": "markdown",
   "metadata": {
    "id": "YNKiH7RJ_z1x"
   },
   "source": [
    "Utilizarla en:\n",
    "\n",
    "$$P(x) = 5x^3+7x^2+2x+3$$ \n",
    "con \n",
    "$x_0=0$ y $x_0 = 3$"
   ]
  },
  {
   "cell_type": "code",
   "execution_count": 3,
   "metadata": {
    "id": "lY_dJRA__roe"
   },
   "outputs": [
    {
     "name": "stdout",
     "output_type": "stream",
     "text": [
      "Polinomio: [ 5. 22. 68.], resto: 207.0\n"
     ]
    }
   ],
   "source": [
    "P = np.array([5, 7, 2, 3])\n",
    "Q, resto = Horner(P, 3)\n",
    "print(f'Polinomio: {Q}, resto: {resto}')"
   ]
  },
  {
   "cell_type": "markdown",
   "metadata": {
    "id": "fJD7zBTScD-m"
   },
   "source": [
    "## 2. Método de Sturm"
   ]
  },
  {
   "cell_type": "markdown",
   "metadata": {
    "id": "Fhkx2Z_RXEOh"
   },
   "source": [
    "1. Implementar el Método de Sturm para, dado un polinomio $P(x)$, **construir la secuencia de polinomios de Sturm**. Hacer una función que devuelva una lista de polinomios (ndarrays)."
   ]
  },
  {
   "cell_type": "code",
   "execution_count": 4,
   "metadata": {
    "id": "0ynq1Qi6XQJJ"
   },
   "outputs": [],
   "source": [
    "def SturmSequence(P):\n",
    "    S = list()\n",
    "    S.append(P) # Primer polinomio de sturm, el propio polinomio\n",
    "    S.append(np.polyder(P)) # Segundo polinomio de sturm, la derivada del polinomio\n",
    "    _, resto = np.polydiv(S[0], S[1]) # Tercer polinomio de sturm\n",
    "    S.append(resto)\n",
    "    cont = 2\n",
    "    while len(resto) > 1:\n",
    "        _, resto = np.polydiv(S[cont - 1], S[cont]) # Sucesivos polinomios de la secuencia \n",
    "                                                    # hasta tener unicamente un termino independiente\n",
    "        S.append(resto)\n",
    "        cont += 1\n",
    "    return S"
   ]
  },
  {
   "cell_type": "code",
   "execution_count": 5,
   "metadata": {
    "colab": {
     "base_uri": "https://localhost:8080/"
    },
    "id": "iHG9nt1FkM7u",
    "outputId": "f03167ac-accf-4e8c-df58-abd75e20d564"
   },
   "outputs": [
    {
     "data": {
      "text/plain": [
       "[array([5, 7, 2, 3]),\n",
       " array([15, 14,  2]),\n",
       " array([-0.84444444,  2.68888889]),\n",
       " array([198.66689751])]"
      ]
     },
     "execution_count": 5,
     "metadata": {},
     "output_type": "execute_result"
    }
   ],
   "source": [
    "seq = SturmSequence(P)\n",
    "seq"
   ]
  },
  {
   "cell_type": "markdown",
   "metadata": {
    "id": "IieM_FlRXQRI"
   },
   "source": [
    "2. Complementar la implementación del apartado 1, para, utilizando el Método de Sturm, **hallar el número de raíces positivas y negativas** de $P(x)$ en un intervalo dado. Hacer una función que devuelva los valores `pos` y `neg`.\n",
    "\n",
    "NOTA: Asumir que todas las raíces son simples. "
   ]
  },
  {
   "cell_type": "code",
   "execution_count": 23,
   "metadata": {
    "id": "Y8w8F1N6Xo12"
   },
   "outputs": [],
   "source": [
    "def numberOfRoots(P, interval):\n",
    "    # Initial values\n",
    "    sequence = SturmSequence(P)\n",
    "    pos = 0\n",
    "    neg = 0\n",
    "    neg_changes = 0\n",
    "    mid_changes = 0\n",
    "    pos_changes = 0\n",
    "    iter_neg_val = 0\n",
    "    iter_mid_val = 0\n",
    "    iter_pos_val = 0\n",
    "\n",
    "    # Previous iteration values\n",
    "    prev_neg_val = np.polyval(sequence[0], interval[0])\n",
    "    prev_mid_val = np.polyval(sequence[0], interval[1])\n",
    "    prev_pos_val = np.polyval(sequence[0], interval[2])\n",
    "\n",
    "    # Start algorithm\n",
    "    for elem in sequence:\n",
    "        iter_neg_val = np.polyval(elem, interval[0])\n",
    "        iter_mid_val = np.polyval(elem, interval[1])\n",
    "        iter_pos_val = np.polyval(elem, interval[2])\n",
    "\n",
    "        if (prev_neg_val * iter_neg_val < 0):\n",
    "            neg_changes += 1\n",
    "        if (prev_mid_val * iter_mid_val < 0):\n",
    "            mid_changes += 1\n",
    "        if (prev_pos_val * iter_pos_val < 0):\n",
    "            pos_changes += 1\n",
    "        \n",
    "        prev_neg_val = iter_neg_val\n",
    "        prev_mid_val = iter_mid_val\n",
    "        prev_pos_val = iter_pos_val\n",
    "\n",
    "    neg = neg_changes - mid_changes\n",
    "    pos = mid_changes - pos_changes\n",
    "\n",
    "    print(f'Cambios de signo en {interval[0]} = [{neg_changes}], {interval[1]} = [{mid_changes}] y {interval[2]} = [{pos_changes}]')\n",
    "    print(f'Raices negativas = [raices en {interval[0]}] {neg_changes} - [raices en {interval[1]}] {mid_changes} = {neg}')\n",
    "    print(f'Raices positivas = [raices en {interval[1]}] {mid_changes} - [raices en {interval[2]}] {pos_changes} = {pos}')\n",
    "\n",
    "    return pos, neg"
   ]
  },
  {
   "cell_type": "code",
   "execution_count": 7,
   "metadata": {
    "id": "3zvNburnneSb"
   },
   "outputs": [
    {
     "name": "stdout",
     "output_type": "stream",
     "text": [
      "Cambios de signo en -10 = [1], 0 = [0] y 10 = [2]\n",
      "Raices positivas = [raices en -10] 1 - [raices en 0] 0 = 1\n",
      "Raices negativas = [raices en 0] 0 - [raices en 10] 2 = -2\n"
     ]
    },
    {
     "data": {
      "text/plain": [
       "(-2, 1)"
      ]
     },
     "execution_count": 7,
     "metadata": {},
     "output_type": "execute_result"
    }
   ],
   "source": [
    "pos, neg = numberOfRoots(P, interval = [-10, 0, 10])\n",
    "(pos, neg)"
   ]
  },
  {
   "cell_type": "markdown",
   "metadata": {
    "id": "beETGstmXo70"
   },
   "source": [
    "3. Utilizar la implementación del apartado 2 para **separar las raíces de un\n",
    "polinomio** dado (es decir, encontrar intervalos que contengan una y solamente\n",
    "una raíz). Hacer una función que devuelva una lista de intervalos.\n",
    "\n",
    "NOTA: Asumir que todas las raíces del polinomio son reales y simples.\n"
   ]
  },
  {
   "cell_type": "code",
   "execution_count": 20,
   "metadata": {
    "id": "EdluqdqPYcpe"
   },
   "outputs": [],
   "source": [
    "def SturmIntervals(P):\n",
    "  intervals = list()\n",
    "  test = [-10, 0, 10]\n",
    "  pos, neg = numberOfRoots(P, test)\n",
    "  iters = 0\n",
    "\n",
    "  if (neg == 1):\n",
    "    intervals.append([test[0], test[1]])\n",
    "\n",
    "  if (pos == 1):\n",
    "    intervals.append([test[1], test[2]])\n",
    "\n",
    "  while (neg > 1) and (pos > 1):\n",
    "    if (neg > 1):\n",
    "      test = [test[0], (test[1] - test[0]) / 2, test[1]]\n",
    "      pos, neg = numberOfRoots(P, test)\n",
    "    \n",
    "    if (pos > 1):\n",
    "      test = [test[1], (test[2] - test[1]) / 2, test[2]]\n",
    "      pos, neg = numberOfRoots(P, test)\n",
    "\n",
    "    if (neg == 1):\n",
    "      intervals.append([test[0], test[1]])\n",
    "\n",
    "    if (pos == 1):\n",
    "      intervals.append([test[1], test[2]])\n",
    "    \n",
    "    iters += 1\n",
    "  return intervals\n"
   ]
  },
  {
   "cell_type": "code",
   "execution_count": 24,
   "metadata": {
    "id": "Vj-z3ILJoTMy"
   },
   "outputs": [
    {
     "name": "stdout",
     "output_type": "stream",
     "text": [
      "Cambios de signo en -10 = [1], 0 = [0] y 10 = [2]\n",
      "Raices negativas = [raices en -10] 1 - [raices en 0] 0 = 1\n",
      "Raices positivas = [raices en 0] 0 - [raices en 10] 2 = -2\n"
     ]
    },
    {
     "data": {
      "text/plain": [
       "[[-10, 0]]"
      ]
     },
     "execution_count": 24,
     "metadata": {},
     "output_type": "execute_result"
    }
   ],
   "source": [
    "intervals = SturmIntervals(P)\n",
    "intervals"
   ]
  },
  {
   "cell_type": "markdown",
   "metadata": {
    "id": "G7tezQfrDIFl"
   },
   "source": [
    "Calcular los intervalos de separación de las raíces de los siguientes polinomios:\n",
    "\n",
    "$$P_1(x) = x^3-9x^2+24x-36$$\n",
    "$$P_2(x) = x^6 - 9.5x^5 + 18x^4 + 33.5x^3 - 97x^2 + 18x +36$$"
   ]
  },
  {
   "cell_type": "code",
   "execution_count": 26,
   "metadata": {
    "id": "beREbMqqDhPb"
   },
   "outputs": [
    {
     "name": "stdout",
     "output_type": "stream",
     "text": [
      "Cambios de signo en -10 = [1], 0 = [3] y 10 = [2]\n",
      "Raices negativas = [raices en -10] 1 - [raices en 0] 3 = -2\n",
      "Raices positivas = [raices en 0] 3 - [raices en 10] 2 = 1\n",
      "Cambios de signo en -10 = [3], 0 = [3] y 10 = [3]\n",
      "Raices negativas = [raices en -10] 3 - [raices en 0] 3 = 0\n",
      "Raices positivas = [raices en 0] 3 - [raices en 10] 3 = 0\n",
      "[[0, 10]]\n",
      "[]\n"
     ]
    }
   ],
   "source": [
    "P_1 = np.array([1, -9, 24, -36])\n",
    "P_2 = np.array([1, -9.5, 18, 33.5, -97, 18, 36])\n",
    "i = SturmIntervals(P_1)\n",
    "i2 = SturmIntervals(P_2)\n",
    "\n",
    "print(i)\n",
    "print(i2)"
   ]
  }
 ],
 "metadata": {
  "colab": {
   "provenance": []
  },
  "kernelspec": {
   "display_name": "Python 3",
   "language": "python",
   "name": "python3"
  },
  "language_info": {
   "codemirror_mode": {
    "name": "ipython",
    "version": 3
   },
   "file_extension": ".py",
   "mimetype": "text/x-python",
   "name": "python",
   "nbconvert_exporter": "python",
   "pygments_lexer": "ipython3",
   "version": "3.10.5"
  }
 },
 "nbformat": 4,
 "nbformat_minor": 1
}

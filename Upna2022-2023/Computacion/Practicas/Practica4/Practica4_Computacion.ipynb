{
 "cells": [
  {
   "cell_type": "markdown",
   "metadata": {
    "id": "d3o88vUabWXF"
   },
   "source": [
    "# **PRÁCTICA 4:** Resolución aproximada de ecuaciones mediante los métodos de Horner y Sturm"
   ]
  },
  {
   "cell_type": "markdown",
   "metadata": {
    "id": "AC1m4eySbfVC"
   },
   "source": [
    "## 1. Método de Horner\n",
    "\n",
    "Implementar el Método de Horner para que, dado un polinomio $P(x)$ de\n",
    "cualquier grado y un punto $x_0 \\in \\mathbb{R}$, se determine otro polinomio $Q(x)$ tal que\n",
    "\n",
    "$$ P(x) = (x-x_0) \\: Q(x) + P(x_0) $$"
   ]
  },
  {
   "cell_type": "code",
   "execution_count": 4,
   "metadata": {
    "id": "3XNimY7kgBuz"
   },
   "outputs": [],
   "source": [
    "import numpy as np"
   ]
  },
  {
   "cell_type": "code",
   "execution_count": 5,
   "metadata": {
    "id": "BEU4cdvHbP5u"
   },
   "outputs": [],
   "source": [
    "def Horner(P,x_0):\n",
    "    res = np.zeros([len(P)])\n",
    "    res[0] = P[0]\n",
    "    for i in range(1, len(P)):\n",
    "        res[i] = (res[i - 1] * x_0) + P[i]\n",
    "    Q = res[0:(len(P) - 1)]\n",
    "    resto = res[-1]\n",
    "    return Q, resto"
   ]
  },
  {
   "cell_type": "markdown",
   "metadata": {
    "id": "YNKiH7RJ_z1x"
   },
   "source": [
    "Utilizarla en:\n",
    "\n",
    "$$ P(x) = 5x^3+7x^2+2x+3$$ con $x_0=0$ y $x_0 = 3$"
   ]
  },
  {
   "cell_type": "code",
   "execution_count": 6,
   "metadata": {
    "id": "lY_dJRA__roe"
   },
   "outputs": [
    {
     "name": "stdout",
     "output_type": "stream",
     "text": [
      "Polinomio: [ 5. 22. 68.], resto: 207.0\n"
     ]
    }
   ],
   "source": [
    "P = np.array([5, 7, 2, 3])\n",
    "Q, resto = Horner(P, 3)\n",
    "print(f'Polinomio: {Q}, resto: {resto}')"
   ]
  },
  {
   "cell_type": "markdown",
   "metadata": {
    "id": "fJD7zBTScD-m"
   },
   "source": [
    "## 2. Método de Sturm"
   ]
  },
  {
   "cell_type": "markdown",
   "metadata": {
    "id": "Fhkx2Z_RXEOh"
   },
   "source": [
    "1. Implementar el Método de Sturm para, dado un polinomio $P(x)$, **construir la secuencia de polinomios de Sturm**. Hacer una función que devuelva una lista de polinomios (ndarrays)."
   ]
  },
  {
   "cell_type": "code",
   "execution_count": 7,
   "metadata": {
    "id": "0ynq1Qi6XQJJ"
   },
   "outputs": [],
   "source": [
    "def SturmSequence(P):\n",
    "    S = list()\n",
    "    S.append(P) # Primer polinomio de sturm, el propio polinomio\n",
    "    S.append(np.polyder(P)) # Segundo polinomio de sturm, la derivada del polinomio\n",
    "    _, resto = np.polydiv(S[0], S[1]) # Tercer polinomio de sturm\n",
    "    S.append(resto)\n",
    "    cont = 2\n",
    "    while len(resto) > 1:\n",
    "        _, resto = np.polydiv(S[cont - 1], S[cont]) # Sucesivos polinomios de la secuencia \n",
    "                                                    # hasta tener unicamente un termino independiente\n",
    "        S.append(resto)\n",
    "        cont += 1\n",
    "    return S"
   ]
  },
  {
   "cell_type": "code",
   "execution_count": 8,
   "metadata": {
    "colab": {
     "base_uri": "https://localhost:8080/"
    },
    "id": "iHG9nt1FkM7u",
    "outputId": "f03167ac-accf-4e8c-df58-abd75e20d564"
   },
   "outputs": [
    {
     "data": {
      "text/plain": [
       "[array([5, 7, 2, 3]),\n",
       " array([15, 14,  2]),\n",
       " array([-0.84444444,  2.68888889]),\n",
       " array([198.66689751])]"
      ]
     },
     "execution_count": 8,
     "metadata": {},
     "output_type": "execute_result"
    }
   ],
   "source": [
    "seq = SturmSequence(P)\n",
    "seq"
   ]
  },
  {
   "cell_type": "markdown",
   "metadata": {
    "id": "IieM_FlRXQRI"
   },
   "source": [
    "2. Complementar la implementación del apartado 1, para, utilizando el Método de Sturm, **hallar el número de raíces positivas y negativas** de $P(x)$ en un intervalo dado. Hacer una función que devuelva los valores `pos` y `neg`.\n",
    "\n",
    "NOTA: Asumir que todas las raíces son simples. "
   ]
  },
  {
   "cell_type": "code",
   "execution_count": 14,
   "metadata": {
    "id": "Y8w8F1N6Xo12"
   },
   "outputs": [],
   "source": [
    "def numberOfRoots(P):\n",
    "    interval = [-10, 10]\n",
    "    seq = SturmSequence(P)\n",
    "    pos_c = 0\n",
    "    neg_c = 0\n",
    "    zero_c = 0\n",
    "    val_n_ant = np.polyval(seq[0], interval[0])\n",
    "    val_0_ant = np.polyval(seq[0], 0)\n",
    "    val_p_ant = np.polyval(seq[0], interval[1])\n",
    "    \n",
    "    for elem in seq:\n",
    "        val_n = np.polyval(elem, interval[0])\n",
    "        val_0 = np.polyval(elem, 0)\n",
    "        val_p = np.polyval(elem, interval[1])\n",
    "        \n",
    "        if (val_n_ant * val_n < 0):\n",
    "            neg_c += 1\n",
    "        if (val_p_ant * val_p < 0):\n",
    "            pos_c += 1\n",
    "        if (val_0_ant * val_0 < 0):\n",
    "            zero_c += 1\n",
    "        \n",
    "        val_n_ant = val_n\n",
    "        val_0_ant = val_0\n",
    "        val_p_ant = val_p\n",
    "        \n",
    "    neg = neg_c - zero_c \n",
    "    pos = zero_c - pos_c\n",
    "    print(f\"cambios neg {neg_c} cambios pos {pos_c} cambios cero {zero_c}\")\n",
    "        \n",
    "    return pos, neg ## TODO devolver neg y pos o neg_c y pos_c"
   ]
  },
  {
   "cell_type": "code",
   "execution_count": 15,
   "metadata": {
    "id": "3zvNburnneSb"
   },
   "outputs": [
    {
     "name": "stdout",
     "output_type": "stream",
     "text": [
      "cambios neg 1 cambios pos 2 cambios cero 0\n"
     ]
    },
    {
     "data": {
      "text/plain": [
       "(-2, 1)"
      ]
     },
     "execution_count": 15,
     "metadata": {},
     "output_type": "execute_result"
    }
   ],
   "source": [
    "pos, neg = numberOfRoots(P)\n",
    "(pos, neg)"
   ]
  },
  {
   "cell_type": "markdown",
   "metadata": {
    "id": "beETGstmXo70"
   },
   "source": [
    "3. Utilizar la implementación del apartado 2 para **separar las raíces de un\n",
    "polinomio** dado (es decir, encontrar intervalos que contengan una y solamente\n",
    "una raíz). Hacer una función que devuelva una lista de intervalos.\n",
    "\n",
    "NOTA: Asumir que todas las raíces del polinomio son reales y simples.\n"
   ]
  },
  {
   "cell_type": "code",
   "execution_count": 11,
   "metadata": {
    "id": "EdluqdqPYcpe"
   },
   "outputs": [],
   "source": [
    "def SturmIntervals(P):\n",
    "  pass\n",
    "  #return intervals"
   ]
  },
  {
   "cell_type": "code",
   "execution_count": 12,
   "metadata": {
    "id": "Vj-z3ILJoTMy"
   },
   "outputs": [],
   "source": [
    "intervals = SturmIntervals(P)\n",
    "intervals"
   ]
  },
  {
   "cell_type": "markdown",
   "metadata": {
    "id": "G7tezQfrDIFl"
   },
   "source": [
    "Calcular los intervalos de separación de las raíces de los siguientes polinomios:\n",
    "\n",
    "$$P_1(x) = x^3-9x^2+24x-36$$\n",
    "$$P_2(x) = x^6 - 9.5x^5 + 18x^4 + 33.5x^3 - 97x^2 + 18x +36$$"
   ]
  },
  {
   "cell_type": "code",
   "execution_count": null,
   "metadata": {
    "id": "beREbMqqDhPb"
   },
   "outputs": [],
   "source": []
  }
 ],
 "metadata": {
  "colab": {
   "provenance": []
  },
  "kernelspec": {
   "display_name": "Python 3",
   "language": "python",
   "name": "python3"
  },
  "language_info": {
   "codemirror_mode": {
    "name": "ipython",
    "version": 3
   },
   "file_extension": ".py",
   "mimetype": "text/x-python",
   "name": "python",
   "nbconvert_exporter": "python",
   "pygments_lexer": "ipython3",
   "version": "3.10.6"
  },
  "vscode": {
   "interpreter": {
    "hash": "916dbcbb3f70747c44a77c7bcd40155683ae19c65e1c03b4aa3499c5328201f1"
   }
  }
 },
 "nbformat": 4,
 "nbformat_minor": 1
}

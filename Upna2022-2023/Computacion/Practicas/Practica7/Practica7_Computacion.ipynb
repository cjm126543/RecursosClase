{
  "cells": [
    {
      "cell_type": "code",
      "execution_count": null,
      "metadata": {
        "id": "r7GzrPWsLSNX"
      },
      "outputs": [],
      "source": [
        "# Importar librerías necesarias\n",
        "import numpy as np"
      ]
    },
    {
      "cell_type": "markdown",
      "metadata": {
        "id": "d3o88vUabWXF"
      },
      "source": [
        "# **Práctica 7:** **Introducción a los Algoritmos Genéticos**"
      ]
    },
    {
      "cell_type": "markdown",
      "metadata": {
        "id": "i9L5QrJQLSNj"
      },
      "source": [
        "El objetivo de esta práctica es familiarizarse con las ideas básicas que están detrás de un **algoritmo genético**. Por ello, vamos a considerar el problema de calcular la inversa de una matriz utilizando algoritmos genéticos. En general, para matrices cualesquiera, este puede ser un problema muy complejo, ya que los elementos de la matriz inversa pueden venir dadas por cualquier número real. \n",
        "\n",
        "Por ello, en esta primera práctica, vamos a restringirnos a matrices binarias (es decir, que solo contienen ceros y unos) y tales que sus inversas asumimos que existen y que contienen solo los valores en $\\{-1, 0, 1, 2\\}$ (aunque no tienen por\n",
        "qué aparecer todos ellos). \n",
        "Consideremos pues la matriz:\n",
        "\n",
        "\\begin{equation}\n",
        "A =\n",
        "    \\begin{pmatrix}\n",
        "        0 & 1 & 0 & 1 & 1 & 0 \\\\\n",
        "        1 & 0 & 1 & 0 & 1 & 0 \\\\\n",
        "        0 & 1 & 0 & 1 & 0 & 0 \\\\\n",
        "        0 & 0 & 1 & 0 & 1 & 1 \\\\\n",
        "        1 & 1 & 0 & 1 & 0 & 0 \\\\\n",
        "        0 & 0 & 0 & 1 & 0 & 0\n",
        "    \\end{pmatrix}\n",
        "\\end{equation}"
      ]
    },
    {
      "cell_type": "markdown",
      "source": [
        "El algoritmo genético a implementar deberá considerar los siguientes componentes: "
      ],
      "metadata": {
        "id": "Xr4R_C3wONIZ"
      }
    },
    {
      "cell_type": "markdown",
      "source": [
        "1. ***CODIFICACIÓN.*** Determinar la forma de representación que van a tener los individuos"
      ],
      "metadata": {
        "id": "5jfa2RIiOPup"
      }
    },
    {
      "cell_type": "markdown",
      "source": [
        "2. ***FUNCIÓN DE FITNESS.*** determinar la función a utilizar. Como entrada se encuentra la matriz a invertir $A$ y la $poblacion$ existente."
      ],
      "metadata": {
        "id": "vL9apZdOOZ_Z"
      }
    },
    {
      "cell_type": "code",
      "source": [
        "def Fitness(A, poblacion):\n",
        "  return f"
      ],
      "metadata": {
        "id": "Q8kPvX4xOx3l"
      },
      "execution_count": null,
      "outputs": []
    },
    {
      "cell_type": "markdown",
      "source": [
        "3. ***POBLACIÓN INICIAL.*** Considerar una población de 10 individuos (es decir, 10 matrices de dimensiones $6 \\times 6$ cuyos valores estén en $\\{-1, 0, 1, 2\\}$, inicializados aleatoriamente)."
      ],
      "metadata": {
        "id": "LIKKWmXyN_3H"
      }
    },
    {
      "cell_type": "code",
      "source": [
        "val_min, val_max = -1, 2\n",
        "num_poblacion = 10\n",
        "N = 6\n",
        "poblacion = np.random.randint(low = val_min, \n",
        "                                  high = val_max+1, \n",
        "                                  size = (num_poblacion, N, N))\n",
        "poblacion"
      ],
      "metadata": {
        "id": "72FjmebEOACP"
      },
      "execution_count": null,
      "outputs": []
    },
    {
      "cell_type": "markdown",
      "source": [
        "4. ***SELECCIÓN DE PROGENITORES.*** Selecciona un método para elegir progenitores para generar nuevos individuos. \n",
        "Dentro de aquí hay que utilizar la función de Fitness. Como entrada tenemos la $poblacion$ existente y como salida un subconjunto de los mismos (puede ser la misma cantidad y se pueden repetir)."
      ],
      "metadata": {
        "id": "UFE0Ea6eOOCc"
      }
    },
    {
      "cell_type": "code",
      "source": [
        "def SelProgenitores(poblacion):\n",
        "  pass"
      ],
      "metadata": {
        "id": "ekkiCOKZOOMT"
      },
      "execution_count": null,
      "outputs": []
    },
    {
      "cell_type": "markdown",
      "source": [
        "5. ***MÉTODO DE CRUZAMIENTO.*** Establecer una forma de cruzar las matrices (por ejemplo, cruzamiento por un punto o por dos puntos). Probabilidad de cruzamiento:  $prob\\_cruz = 0.95$. Como entrada tenemos dos cromosomas (junto con una probabilidad de cruzamiento) y como salida otros dos."
      ],
      "metadata": {
        "id": "KEhnbrJSOiTE"
      }
    },
    {
      "cell_type": "code",
      "source": [
        "def Cruzamiento(cromosoma1, cromosoma2, prob_cruz):\n",
        "  pass"
      ],
      "metadata": {
        "id": "t2XG2Uv0OiY9"
      },
      "execution_count": null,
      "outputs": []
    },
    {
      "cell_type": "markdown",
      "source": [
        "6. ***MÉTODO DE MUTACIÓN.*** Establecer un mecanismo de mutación. Por ejemplo, cada gen muta con una probabilidad de $prob\\_mut = 0.01$. Es decir, en cada iteración, aproximadamente el $1\\%$ de los genes muta. Como salida de esta función obtenemos el cromosoma (no) mutado. "
      ],
      "metadata": {
        "id": "tdfmpNJwOo5Y"
      }
    },
    {
      "cell_type": "code",
      "source": [
        "def Mutacion(cromosoma, prob_mut):\n",
        "  pass"
      ],
      "metadata": {
        "id": "h7VCiTCxOo-u"
      },
      "execution_count": null,
      "outputs": []
    },
    {
      "cell_type": "markdown",
      "source": [
        "7. ***SELECCIÓN DE SUPERVIVIENTES O SUSTITUCIÓN.*** Establece un método para seleccionar qué individuos formaran parte de la siguiente población. Entran en juego la población existente y los nuevos generados mediante cruzamiento y que han podido mutar. Se propone que si la población actual pongamos $z$ individuos, y los nuevos son otros $z$; de los $2z$ existentes seleccionar los $z$ \"mejores\"."
      ],
      "metadata": {
        "id": "Qu7nw6ShO0Hq"
      }
    },
    {
      "cell_type": "code",
      "source": [
        "def SelSupervivientes(poblacion, nuevos):\n",
        "  pass"
      ],
      "metadata": {
        "id": "NZNF_P9LO0N3"
      },
      "execution_count": null,
      "outputs": []
    },
    {
      "cell_type": "markdown",
      "source": [
        "### ***PROGRAMA PRINCIPAL DEL ALGORITMO GENÉTICO***\n",
        "\n",
        "El algoritmo genético debe detenerse bien cuando encuentra una solución o bien cuando ha cumplido\n",
        "un número máximo de iteraciones (por ejemplo, $200$). En este último caso, el algoritmo debe devolver el\n",
        "individuo con mejor {fitness} entre la población que existe en el momento de detener la ejecución.\n",
        "Para la selección de progenitores, utilizar el método de la ruleta con reemplazamiento generacional (es\n",
        "decir, los descendientes reemplazan a los padres en la población)."
      ],
      "metadata": {
        "id": "C1n0FpL1O_w-"
      }
    },
    {
      "cell_type": "code",
      "source": [
        "prob_cruz = 0.95\n",
        "prob_mut = 0.01\n",
        "\n",
        "num_iteraciones = 200\n",
        "\n",
        "for iter in range(num_iteraciones):\n",
        "\n",
        "  ## Seleccion de progenitores\n",
        "\n",
        "\n",
        "  ## Cruzamiento\n",
        "\n",
        "\n",
        "  ## Mutacion\n",
        "\n",
        "\n",
        "  ## Seleccion de supervivientes\n",
        "\n",
        "  pass"
      ],
      "metadata": {
        "id": "05Ncsy8xO_3v"
      },
      "execution_count": null,
      "outputs": []
    }
  ],
  "metadata": {
    "colab": {
      "provenance": []
    },
    "kernelspec": {
      "display_name": "Python 3",
      "name": "python3"
    },
    "language_info": {
      "name": "python"
    }
  },
  "nbformat": 4,
  "nbformat_minor": 0
}
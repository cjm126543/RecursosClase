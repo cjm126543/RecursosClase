{
  "cells": [
    {
      "cell_type": "code",
      "execution_count": 211,
      "metadata": {
        "id": "r7GzrPWsLSNX"
      },
      "outputs": [],
      "source": [
        "# Importar librerías necesarias\n",
        "import numpy as np\n",
        "import sympy as sp\n",
        "import random as rnd\n",
        "from copy import deepcopy"
      ]
    },
    {
      "cell_type": "markdown",
      "metadata": {
        "id": "d3o88vUabWXF"
      },
      "source": [
        "# **Práctica 7:** **Introducción a los Algoritmos Genéticos**"
      ]
    },
    {
      "cell_type": "markdown",
      "metadata": {
        "id": "i9L5QrJQLSNj"
      },
      "source": [
        "El objetivo de esta práctica es familiarizarse con las ideas básicas que están detrás de un **algoritmo genético**. Por ello, vamos a considerar el problema de calcular la inversa de una matriz utilizando algoritmos genéticos. En general, para matrices cualesquiera, este puede ser un problema muy complejo, ya que los elementos de la matriz inversa pueden venir dadas por cualquier número real. \n",
        "\n",
        "Por ello, en esta primera práctica, vamos a restringirnos a matrices binarias (es decir, que solo contienen ceros y unos) y tales que sus inversas asumimos que existen y que contienen solo los valores en $\\{-1, 0, 1, 2\\}$ (aunque no tienen por\n",
        "qué aparecer todos ellos). \n",
        "Consideremos pues la matriz:\n",
        "\n",
        "\\begin{equation}\n",
        "A =\n",
        "    \\begin{pmatrix}\n",
        "        0 & 1 & 0 & 1 & 1 & 0 \\\\\n",
        "        1 & 0 & 1 & 0 & 1 & 0 \\\\\n",
        "        0 & 1 & 0 & 1 & 0 & 0 \\\\\n",
        "        0 & 0 & 1 & 0 & 1 & 1 \\\\\n",
        "        1 & 1 & 0 & 1 & 0 & 0 \\\\\n",
        "        0 & 0 & 0 & 1 & 0 & 0\n",
        "    \\end{pmatrix}\n",
        "\\end{equation}"
      ]
    },
    {
      "cell_type": "markdown",
      "metadata": {
        "id": "Xr4R_C3wONIZ"
      },
      "source": [
        "El algoritmo genético a implementar deberá considerar los siguientes componentes: "
      ]
    },
    {
      "cell_type": "markdown",
      "metadata": {
        "id": "5jfa2RIiOPup"
      },
      "source": [
        "1. ***CODIFICACIÓN.*** Determinar la forma de representación que van a tener los individuos"
      ]
    },
    {
      "cell_type": "code",
      "execution_count": 6,
      "metadata": {},
      "outputs": [],
      "source": [
        "## Representaremos los genes como vectores. Es decir, un gen corresponderá con una fila de una matriz\n",
        "mat = np.array([[0,1,0,1,1,0], [1,0,1,0,1,0], [0,1,0,1,0,0], [0,0,1,0,1,1], [1,1,0,1,0,0], [0,0,0,1,0,0]])"
      ]
    },
    {
      "cell_type": "markdown",
      "metadata": {
        "id": "vL9apZdOOZ_Z"
      },
      "source": [
        "2. ***FUNCIÓN DE FITNESS.*** determinar la función a utilizar. Como entrada se encuentra la matriz a invertir $A$ y la $poblacion$ existente."
      ]
    },
    {
      "cell_type": "code",
      "execution_count": 7,
      "metadata": {
        "id": "Q8kPvX4xOx3l"
      },
      "outputs": [],
      "source": [
        "def Fitness(A, poblacion):\n",
        "  inv = np.linalg.inv(A)\n",
        "  f = np.zeros(len(poblacion))\n",
        "  \n",
        "  ### mat * inv = identidad  lo que se parece a ese puede ser mejor fitness\n",
        "  for i in range(len(poblacion)):\n",
        "    f[i] = np.mean(inv == poblacion[i])\n",
        "    \n",
        "  return f"
      ]
    },
    {
      "cell_type": "markdown",
      "metadata": {
        "id": "LIKKWmXyN_3H"
      },
      "source": [
        "3. ***POBLACIÓN INICIAL.*** Considerar una población de 10 individuos (es decir, 10 matrices de dimensiones $6 \\times 6$ cuyos valores estén en $\\{-1, 0, 1, 2\\}$, inicializados aleatoriamente)."
      ]
    },
    {
      "cell_type": "code",
      "execution_count": 8,
      "metadata": {
        "id": "72FjmebEOACP"
      },
      "outputs": [
        {
          "data": {
            "text/plain": [
              "array([[[ 2,  0,  1,  0, -1,  0],\n",
              "        [ 0,  1,  0,  1, -1,  2],\n",
              "        [ 0,  2,  1,  1,  0, -1],\n",
              "        [ 1,  1,  1,  0,  1,  2],\n",
              "        [ 1,  1,  1,  2,  2,  2],\n",
              "        [ 2,  2,  1,  0,  1, -1]],\n",
              "\n",
              "       [[-1,  2,  0, -1,  2,  0],\n",
              "        [ 0,  0,  2,  1, -1, -1],\n",
              "        [ 1,  1,  0,  0,  1,  1],\n",
              "        [ 1, -1,  2, -1, -1,  0],\n",
              "        [ 0,  1,  1,  0,  1,  0],\n",
              "        [ 1,  1,  0,  2, -1, -1]],\n",
              "\n",
              "       [[-1,  1, -1,  2, -1,  0],\n",
              "        [ 2, -1,  1, -1,  2,  1],\n",
              "        [-1,  2, -1,  1,  0, -1],\n",
              "        [ 1, -1,  2,  0, -1,  0],\n",
              "        [ 2,  2,  2,  2,  0,  1],\n",
              "        [-1,  2,  1,  2,  2,  1]],\n",
              "\n",
              "       [[ 1,  2,  1,  0,  2,  2],\n",
              "        [ 0,  0,  0,  0,  2,  2],\n",
              "        [ 0, -1, -1, -1, -1, -1],\n",
              "        [ 0, -1, -1,  1,  1, -1],\n",
              "        [ 0,  2, -1,  1, -1, -1],\n",
              "        [ 2,  2,  2,  2,  1,  2]],\n",
              "\n",
              "       [[ 0,  0,  0,  1,  1,  1],\n",
              "        [ 0, -1,  0,  0,  0,  2],\n",
              "        [-1, -1,  1,  0, -1, -1],\n",
              "        [-1, -1,  1,  0,  1,  2],\n",
              "        [-1, -1,  1,  2,  0,  0],\n",
              "        [ 1,  1,  2, -1,  0, -1]],\n",
              "\n",
              "       [[ 2, -1, -1,  1,  0,  1],\n",
              "        [ 2, -1,  2,  2, -1,  0],\n",
              "        [ 1, -1,  0,  0,  2,  0],\n",
              "        [-1, -1,  0, -1, -1,  2],\n",
              "        [-1, -1,  1, -1, -1,  1],\n",
              "        [ 2,  0, -1,  2,  2,  2]],\n",
              "\n",
              "       [[ 0,  0,  2,  2,  1,  0],\n",
              "        [ 0,  2,  0, -1,  0,  0],\n",
              "        [ 0,  2,  2,  2, -1, -1],\n",
              "        [-1,  2,  1,  1,  1,  0],\n",
              "        [ 2,  1,  0,  1,  0,  0],\n",
              "        [ 2, -1, -1,  2, -1,  2]],\n",
              "\n",
              "       [[-1,  2,  0,  0,  0,  2],\n",
              "        [-1,  2, -1,  2, -1,  1],\n",
              "        [ 1,  0,  2, -1,  0,  1],\n",
              "        [ 1,  1,  2,  1,  2, -1],\n",
              "        [ 2, -1, -1,  1,  1,  1],\n",
              "        [-1, -1,  2,  2,  1,  1]],\n",
              "\n",
              "       [[ 1, -1,  1,  1,  2, -1],\n",
              "        [-1,  1,  2,  2,  2, -1],\n",
              "        [-1,  0, -1,  1, -1, -1],\n",
              "        [ 0,  0,  1,  1,  2,  1],\n",
              "        [-1, -1,  1, -1,  0,  2],\n",
              "        [ 0, -1,  2,  2, -1,  2]],\n",
              "\n",
              "       [[ 1,  1,  2,  0,  1, -1],\n",
              "        [ 0,  1, -1,  1,  0, -1],\n",
              "        [ 1,  1,  2, -1,  0,  0],\n",
              "        [-1,  0,  1,  1,  2, -1],\n",
              "        [ 0,  1,  2,  1,  2, -1],\n",
              "        [ 2,  1,  0,  2,  2,  2]]])"
            ]
          },
          "execution_count": 8,
          "metadata": {},
          "output_type": "execute_result"
        }
      ],
      "source": [
        "val_min, val_max = -1, 2\n",
        "num_poblacion = 10\n",
        "N = 6\n",
        "poblacion = np.random.randint(low = val_min, \n",
        "                                  high = val_max+1, \n",
        "                                  size = (num_poblacion, N, N))\n",
        "poblacion"
      ]
    },
    {
      "cell_type": "markdown",
      "metadata": {
        "id": "UFE0Ea6eOOCc"
      },
      "source": [
        "4. ***SELECCIÓN DE PROGENITORES.*** Selecciona un método para elegir progenitores para generar nuevos individuos. \n",
        "Dentro de aquí hay que utilizar la función de Fitness. Como entrada tenemos la $poblacion$ existente y como salida un subconjunto de los mismos (puede ser la misma cantidad y se pueden repetir)."
      ]
    },
    {
      "cell_type": "code",
      "execution_count": 17,
      "metadata": {
        "id": "ekkiCOKZOOMT"
      },
      "outputs": [],
      "source": [
        "def SelProgenitores(poblacion):\n",
        "  A = np.array([[0,1,0,1,1,0], [1,0,1,0,1,0], [0,1,0,1,0,0], [0,0,1,0,1,1], [1,1,0,1,0,0], [0,0,0,1,0,0]])\n",
        "  \n",
        "  ## Evaluar fitness\n",
        "  fit = Fitness(A, poblacion)\n",
        "  \n",
        "  \"\"\" Utilizaremos el método de la ruleta \"\"\"\n",
        "  ## Calcular probabilidades\n",
        "  prob = np.zeros(len(fit))\n",
        "  den = [sum(fit) - elem for elem in fit]\n",
        "  for i in range(len(fit)):\n",
        "    prob[i] = fit[i] / den[i]\n",
        "    \n",
        "  ## Declarar intervalos y seleccionar padres\n",
        "  progenitores = list()\n",
        "  for i in range(int(len(fit) / 2) - 1):\n",
        "    num = rnd.random()\n",
        "    if num >= 0 and num <= prob[0]:\n",
        "      progenitores.append(poblacion[0])\n",
        "    elif num > prob[0] and num <= prob[1]:\n",
        "      progenitores.append(poblacion[1])\n",
        "    elif num > prob[1] and num <= prob[2]:\n",
        "      progenitores.append(poblacion[2])\n",
        "    elif num > prob[2] and num <= prob[3]:\n",
        "      progenitores.append(poblacion[3])\n",
        "    elif num > prob[3] and num <= prob[4]:\n",
        "      progenitores.append(poblacion[4])\n",
        "    elif num > prob[4] and num <= prob[5]:\n",
        "      progenitores.append(poblacion[5])\n",
        "    elif num > prob[5] and num <= prob[6]:\n",
        "      progenitores.append(poblacion[6])\n",
        "    elif num > prob[6] and num <= prob[7]:\n",
        "      progenitores.append(poblacion[7])\n",
        "    elif num > prob[7] and num <= prob[8]:\n",
        "      progenitores.append(poblacion[8])\n",
        "    elif num > prob[8] and num <= prob[9]:\n",
        "      progenitores.append(poblacion[9])\n",
        "    else:\n",
        "      progenitores.append(poblacion[0])\n",
        "  \n",
        "  return progenitores"
      ]
    },
    {
      "cell_type": "markdown",
      "metadata": {
        "id": "KEhnbrJSOiTE"
      },
      "source": [
        "5. ***MÉTODO DE CRUZAMIENTO.*** Establecer una forma de cruzar las matrices (por ejemplo, cruzamiento por un punto o por dos puntos). Probabilidad de cruzamiento:  $prob\\_cruz = 0.95$. Como entrada tenemos dos cromosomas (junto con una probabilidad de cruzamiento) y como salida otros dos."
      ]
    },
    {
      "cell_type": "code",
      "execution_count": 213,
      "metadata": {
        "id": "t2XG2Uv0OiY9"
      },
      "outputs": [],
      "source": [
        "def Cruzamiento(cromosoma1, cromosoma2, prob_cruz):\n",
        "  ## Cruzaremos por 2 puntos\n",
        "  if rnd.random() <= prob_cruz:\n",
        "    p_1 = rnd.randint(0, cromosoma1.shape[0] - 1)\n",
        "    p_2 = rnd.randint(0, cromosoma1.shape[0] - 1)\n",
        "    \n",
        "    aux = deepcopy(cromosoma2[p_1])\n",
        "    cromosoma2[p_1] = cromosoma1[p_1]\n",
        "    cromosoma1[p_1] = aux\n",
        "    \n",
        "    aux = deepcopy(cromosoma2[p_2])\n",
        "    cromosoma2[p_2] = cromosoma1[p_2]\n",
        "    cromosoma1[p_2] = aux\n",
        "    \n",
        "    return cromosoma1, cromosoma2\n",
        "    \n",
        "  else:\n",
        "    return None, None"
      ]
    },
    {
      "cell_type": "markdown",
      "metadata": {
        "id": "tdfmpNJwOo5Y"
      },
      "source": [
        "6. ***MÉTODO DE MUTACIÓN.*** Establecer un mecanismo de mutación. Por ejemplo, cada gen muta con una probabilidad de $prob\\_mut = 0.01$. Es decir, en cada iteración, aproximadamente el $1\\%$ de los genes muta. Como salida de esta función obtenemos el cromosoma (no) mutado. "
      ]
    },
    {
      "cell_type": "code",
      "execution_count": 216,
      "metadata": {
        "id": "h7VCiTCxOo-u"
      },
      "outputs": [],
      "source": [
        "def Mutacion(cromosoma, prob_mut):\n",
        "  valores = [-1, 0, 1, 2]\n",
        "  for i in range(cromosoma.shape[0]):\n",
        "    for j in range(cromosoma.shape[1]):\n",
        "      if rnd.random() <= prob_mut:\n",
        "        cromosoma[i][j] = rnd.choice(valores)\n",
        "  return cromosoma"
      ]
    },
    {
      "cell_type": "markdown",
      "metadata": {
        "id": "Qu7nw6ShO0Hq"
      },
      "source": [
        "7. ***SELECCIÓN DE SUPERVIVIENTES O SUSTITUCIÓN.*** Establece un método para seleccionar qué individuos formaran parte de la siguiente población. Entran en juego la población existente y los nuevos generados mediante cruzamiento y que han podido mutar. Se propone que si la población actual pongamos $z$ individuos, y los nuevos son otros $z$; de los $2z$ existentes seleccionar los $z$ \"mejores\"."
      ]
    },
    {
      "cell_type": "code",
      "execution_count": null,
      "metadata": {
        "id": "NZNF_P9LO0N3"
      },
      "outputs": [],
      "source": [
        "def SelSupervivientes(poblacion, nuevos):\n",
        "  A = np.array([[0,1,0,1,1,0], [1,0,1,0,1,0], [0,1,0,1,0,0], [0,0,1,0,1,1], [1,1,0,1,0,0], [0,0,0,1,0,0]])\n",
        "  fit = Fitness(A, poblacion.extend(nuevos))\n",
        "  \n",
        "  nueva_poblacion = list()\n",
        "  \n",
        "  for i in range(len(nueva_poblacion)):\n",
        "    ## TODO añadir nuevo elemento a poblacion y eliminar de fitness\n",
        "    \n",
        "  return nueva_poblacion"
      ]
    },
    {
      "cell_type": "markdown",
      "metadata": {
        "id": "C1n0FpL1O_w-"
      },
      "source": [
        "### ***PROGRAMA PRINCIPAL DEL ALGORITMO GENÉTICO***\n",
        "\n",
        "El algoritmo genético debe detenerse bien cuando encuentra una solución o bien cuando ha cumplido\n",
        "un número máximo de iteraciones (por ejemplo, $200$). En este último caso, el algoritmo debe devolver el\n",
        "individuo con mejor {fitness} entre la población que existe en el momento de detener la ejecución.\n",
        "Para la selección de progenitores, utilizar el método de la ruleta con reemplazamiento generacional (es\n",
        "decir, los descendientes reemplazan a los padres en la población)."
      ]
    },
    {
      "cell_type": "code",
      "execution_count": 215,
      "metadata": {
        "id": "05Ncsy8xO_3v"
      },
      "outputs": [],
      "source": [
        "prob_cruz = 0.95\n",
        "prob_mut = 0.01\n",
        "\n",
        "num_iteraciones = 200\n",
        "\n",
        "for iter in range(num_iteraciones):\n",
        "\n",
        "  ## Seleccion de progenitores\n",
        "  \n",
        "\n",
        "  ## Cruzamiento\n",
        "\n",
        "\n",
        "  ## Mutacion\n",
        "\n",
        "\n",
        "  ## Seleccion de supervivientes\n",
        "\n",
        "  pass\n"
      ]
    }
  ],
  "metadata": {
    "colab": {
      "provenance": []
    },
    "kernelspec": {
      "display_name": "Python 3",
      "name": "python3"
    },
    "language_info": {
      "codemirror_mode": {
        "name": "ipython",
        "version": 3
      },
      "file_extension": ".py",
      "mimetype": "text/x-python",
      "name": "python",
      "nbconvert_exporter": "python",
      "pygments_lexer": "ipython3",
      "version": "3.10.6"
    }
  },
  "nbformat": 4,
  "nbformat_minor": 0
}

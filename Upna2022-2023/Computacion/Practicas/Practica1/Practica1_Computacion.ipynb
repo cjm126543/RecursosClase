{
 "cells": [
  {
   "cell_type": "markdown",
   "metadata": {
    "id": "Uo4P8ybfJtSV"
   },
   "source": [
    "# **PRÁCTICA 1:** Método de bisección en ecuaciones transcendentes y polinomios"
   ]
  },
  {
   "cell_type": "code",
   "execution_count": 1,
   "metadata": {
    "id": "OBgE2kdhHVd3"
   },
   "outputs": [],
   "source": [
    "# Import necessary libraries\n",
    "import numpy as np\n",
    "import matplotlib.pyplot as mp\n",
    "import sympy as sp\n",
    "from numpy import linalg as lg"
   ]
  },
  {
   "cell_type": "markdown",
   "metadata": {
    "id": "hm9YfqoBHVd4"
   },
   "source": [
    "## Método de bisección"
   ]
  },
  {
   "cell_type": "markdown",
   "metadata": {
    "id": "f1-K9r82HVd5"
   },
   "source": [
    "Escribir un programa que, dado un polinomio $P(x)$ de grado impar: determine un intervalo $[a,b]$ en el en el que dicho polinomio tiene al menos un 0. Halle dicho 0 utilizando el método de bisección estudiado en clase, con un error inferior a una cota $e$ prefijada. Se fija $e = 0.001$. \n"
   ]
  },
  {
   "cell_type": "code",
   "execution_count": 41,
   "metadata": {
    "id": "S81mFEK8HVd5"
   },
   "outputs": [],
   "source": [
    "# def bisection(f, a, b):\n",
    "    \n",
    "#     if f(a) * f(b) >= 0:\n",
    "#         print(\"No se puede calcular en el intervalo [{}, {}]\".format(a, b))\n",
    "#         return None\n",
    "        \n",
    "#     # Paso 0\n",
    "#     n = 0\n",
    "#     e = 0.001\n",
    "        \n",
    "#     # Paso 2 (condicion de parada)\n",
    "#     while (b - a) / 2 >= e:\n",
    "            \n",
    "#         # Paso 1\n",
    "#         p = (b + a) / 2\n",
    "        \n",
    "#         # Paso 3\n",
    "#         if f(a) * f(p) > 0:\n",
    "#             a = p\n",
    "#         else:\n",
    "#             b = p\n",
    "        \n",
    "#         n += 1\n",
    "    \n",
    "#     print(\"Num iteraciones: \" + str(n) + \"\\n\")\n",
    "#     return p  \n",
    "  \n",
    "def bisection(f, a, b, x):\n",
    "    \n",
    "    if f.subs(x, a) * f.subs(x, b) >= 0:\n",
    "        print(\"No se puede calcular en el intervalo [{}, {}]\".format(a, b))\n",
    "        return None\n",
    "        \n",
    "    # Paso 0\n",
    "    n = 0\n",
    "    e = 0.001\n",
    "        \n",
    "    # Paso 2 (condicion de parada)\n",
    "    while (b - a) / 2 >= e:\n",
    "            \n",
    "        # Paso 1\n",
    "        p = (b + a) / 2\n",
    "        \n",
    "        # Paso 3\n",
    "        if f.subs(x, a) * f.subs(x, p) > 0:\n",
    "            a = p\n",
    "        else:\n",
    "            b = p\n",
    "        \n",
    "        n += 1\n",
    "    \n",
    "    print(\"Num iteraciones: \" + str(n) + \"\\n\")\n",
    "    return p    "
   ]
  },
  {
   "cell_type": "markdown",
   "metadata": {
    "id": "iqXTAfwyHVd6"
   },
   "source": [
    "**Lista de funciones**:\n",
    "\n",
    "1. $f_1(x)=2.3 x^5 + 2.3 x^4 + 3.2 x + 3.2$\n",
    "2. $f_2(x)=e^{-x} - \\ln x$, para $x > 0$\n",
    "3. $f_3(x)=\\ln x + x$, para $x > 0$\n",
    "4. $f_4(x)=\\ln x + \\sqrt{x}$, para $x > 0$\n",
    "5. $f_5(x)=(x-1)^2 - \\sqrt{x}$, para $x > 0$\n",
    "6. $f_6(x)=e^x - \\sin x$, para $x > 0$\n"
   ]
  },
  {
   "cell_type": "markdown",
   "metadata": {
    "id": "DBlHhf6XHVd6"
   },
   "source": [
    "Para cada una de las ecuaciones anteriores, utiliza los pasos estudiados en clase para determinar todas sus raíces:\n",
    "\n",
    "1) **Acotación**: Encontrar un intervalo $[a,b]$ en el que se encuentren todas (o al menos algunas) de las raíces que buscamos. Haz la gráfica a mano o usando python, para determinar el intervalo. Puedes graficar la función, o dividirla en dos y analizar la intersección (como hicimos en clase).\n",
    "\n",
    "\n",
    "    *Nota: Puedes hacer uso de la función `plot()` de [librería matplotlib.pyplot](https://matplotlib.org/stable/api/_as_gen/matplotlib.pyplot.plot.html) para graficar fácilmente las funciones."
   ]
  },
  {
   "cell_type": "code",
   "execution_count": 42,
   "metadata": {
    "id": "WlhFG51fHVd7"
   },
   "outputs": [],
   "source": [
    "# # Dimensioning\n",
    "\n",
    "# # Funciones a evaluar\n",
    "\n",
    "# # Funcion 1 \n",
    "# def f_1(x):\n",
    "#     return (2.3 * (x ** 5)) + (2.3 * (x ** 4)) + (3.2 * x) + 3.2\n",
    "\n",
    "# # Funcion 2\n",
    "# def f_2(x):\n",
    "#     if x <= 0:\n",
    "#         return None\n",
    "#     else:\n",
    "#         return np.exp(-x) - np.log(x)\n",
    "    \n",
    "# # Funcion 3\n",
    "# def f_3(x):\n",
    "#     if x <= 0:\n",
    "#         return None\n",
    "#     else:\n",
    "#         return np.log(x) + x\n",
    "\n",
    "# # Funcion 4\n",
    "# def f_4(x):\n",
    "#     if x <= 0:\n",
    "#         return None\n",
    "#     else:\n",
    "#         return np.log(x) + np.sqrt(x)\n",
    "    \n",
    "# # Funcion 5\n",
    "# def f_5(x):\n",
    "#     if x <= 0:\n",
    "#         return None\n",
    "#     else:\n",
    "#         return ((x - 1) ** 2) - np.sqrt(x)\n",
    "\n",
    "# # Funcion 6\n",
    "# def f_6(x):\n",
    "#     if x <= 0:\n",
    "#         return None\n",
    "#     else:\n",
    "#         return np.exp(x) - np.sin(x)\n",
    "    \n",
    "\n",
    "# # Grafica 1\n",
    "# x1 = np.linspace(-2, 2, 1000)\n",
    "# y1 = [f_1(elem) for elem in x1]\n",
    "# fig1 = mp.figure(\"Figure 1\")\n",
    "# mp.plot(x1, y1)\n",
    "# mp.axhline(y=0, color='k')\n",
    "# mp.axvline(x=0, color='k')\n",
    "\n",
    "# # Grafica 2\n",
    "# x2 = np.linspace(0, 10, 1000)\n",
    "# y2 = [f_2(elem) for elem in x2]\n",
    "# fig2 = mp.figure(\"Figure 2\")\n",
    "# mp.plot(x2, y2)\n",
    "# mp.axhline(y=0, color='k')\n",
    "# mp.axvline(x=0, color='k')\n",
    "\n",
    "# # Grafica 3\n",
    "# x3 = np.linspace(0, 10, 1000)\n",
    "# y3 = [f_3(elem) for elem in x3]\n",
    "# fig3 = mp.figure(\"Figure 3\")\n",
    "# mp.plot(x3, y3)\n",
    "# mp.axhline(y=0, color='k')\n",
    "# mp.axvline(x=0, color='k')\n",
    "\n",
    "# # Grafica 4\n",
    "# x4 = np.linspace(0, 10, 1000)\n",
    "# y4 = [f_4(elem) for elem in x4]\n",
    "# fig4 = mp.figure(\"Figure 4\")\n",
    "# mp.plot(x4, y4)\n",
    "# mp.axhline(y=0, color='k')\n",
    "# mp.axvline(x=0, color='k')\n",
    "\n",
    "# # Grafica 5\n",
    "# x5 = np.linspace(0, 10, 1000)\n",
    "# y5 = [f_5(elem) for elem in x5]\n",
    "# fig5 = mp.figure(\"Figure 5\")\n",
    "# mp.plot(x5, y5)\n",
    "# mp.axhline(y=0, color='k')\n",
    "# mp.axvline(x=0, color='k')\n",
    "\n",
    "# # Grafica 6\n",
    "# x6 = np.linspace(0, 10, 1000)\n",
    "# y6 = [f_6(elem) for elem in x6]\n",
    "# fig3 = mp.figure(\"Figure 6\")\n",
    "# mp.plot(x6, y6)\n",
    "# mp.axhline(y=0, color='k')\n",
    "# mp.axvline(x=0, color='k')\n",
    "\n",
    "###################################################### SYMPY\n",
    "x = sp.Symbol('x', positive=True)\n",
    "x1 = sp.Symbol('x')\n",
    "f_1 = (2.3 * x1 ** 5) + (2.3 * x1 ** 4) + (3.2 * x1) + 3.2\n",
    "f_2 = sp.exp(-x) - sp.log(x)\n",
    "f_3 = sp.log(x) + x\n",
    "f_4 = sp.log(x) + sp.sqrt(x)\n",
    "f_5 = ((x - 1) ** 2) - sp.sqrt(x)\n",
    "f_6 = sp.exp(x) - sp.sin(x)"
   ]
  },
  {
   "cell_type": "markdown",
   "metadata": {
    "id": "JWg5XyDyHVd7"
   },
   "source": [
    "2) **Separación**: Determinar el número de raíces de la ecuación y, para cada una de ellas, encontrar un subintervalo $[a', b']$ que la contenga pero que no contenga ninguna otra raíz. Analizar intervalos crecientes y decrecientes utilizando las derivadas, y sus gráficas, si es necesario. Utiliza el teorema de Bolzano."
   ]
  },
  {
   "cell_type": "code",
   "execution_count": 43,
   "metadata": {
    "id": "JI2ek5laHVd7"
   },
   "outputs": [
    {
     "name": "stdout",
     "output_type": "stream",
     "text": [
      "El intervalo es [-1.5, -0.5]\n"
     ]
    }
   ],
   "source": [
    "# 2. Separation\n",
    "'''\n",
    "    Los intervalos seleccionados en un primer momento para las funciones son (siguiendo la grafica):\n",
    "    1. [-1.5, -0.5]\n",
    "    2. [0.1, 2]\n",
    "    3. [0.1, 2]\n",
    "    4. [0.1, 2]\n",
    "    5. [0.1, 4]\n",
    "    6. [0.1, 6]\n",
    "'''\n",
    "\n",
    "#if (f(a) * f(b) < 0) and (f'(a) * f'(b) >= 0):\n",
    "    # Existe una raiz solo\n",
    "\n",
    "# Funcion 1\n",
    "l = [-1.5, -0.5]\n",
    "f_1p = sp.diff(f_1, x1)\n",
    "if (f_1.subs(x1, l[0]) * f_1.subs(x1, l[1])) < 0 and (f_1p.subs(x1, l[0]) * f_1p.subs(x1, l[1])) >= 0:\n",
    "    print(\"El intervalo es [{}, {}]\".format(l[0], l[1]))\n",
    "\n",
    "# Funcion 2\n",
    "a = 0.1\n",
    "b = 2\n",
    "f_2p = sp.diff(f_2, x)\n",
    "\n",
    "# Funcion 3\n",
    "a = 0.1\n",
    "b = 2\n",
    "f_3p = sp.diff(f_3, x)\n",
    "\n",
    "# Funcion 4\n",
    "a = 0.1\n",
    "b = 2\n",
    "f_4p = sp.diff(f_4, x)\n",
    "\n",
    "# Funcion 5\n",
    "a = 0.1\n",
    "b = 4\n",
    "f_5p = sp.diff(f_5, x)\n",
    "\n",
    "# Funcion 6\n",
    "a = 0.1\n",
    "b = 6\n",
    "f_6p = sp.diff(f_6, x)\n"
   ]
  },
  {
   "cell_type": "markdown",
   "metadata": {
    "id": "5qpoKhTTHVd7"
   },
   "source": [
    "3) **Resolución aproximada**: Utilizar el método de bisección implementado en Python para encontrar la raíz de cada subintervalo."
   ]
  },
  {
   "cell_type": "code",
   "execution_count": 45,
   "metadata": {
    "id": "n8acoSIbHVd7"
   },
   "outputs": [
    {
     "name": "stdout",
     "output_type": "stream",
     "text": [
      "Num iteraciones: 9\n",
      "\n",
      "## Funcion 1 ##\n",
      "\n",
      "La raiz aproximada es: -1.001953125 siendo f(-1.001953125) = -0.0107773856667990\n",
      "\n",
      "Num iteraciones: 10\n",
      "\n",
      "## Funcion 2 ##\n",
      "\n",
      "La raiz aproximada es: 1.3116210937500004 siendo f(1.3116210937500004) = -0.00188084119329418\n",
      "\n",
      "Num iteraciones: 10\n",
      "\n",
      "## Funcion 3 ##\n",
      "\n",
      "La raiz aproximada es: 0.5657226562500001 siendo f(0.5657226562500001) = -0.00392867124687446\n",
      "\n",
      "Num iteraciones: 10\n",
      "\n",
      "## Funcion 4 ##\n",
      "\n",
      "La raiz aproximada es: 0.49521484375 siendo f(0.49521484375) = 0.000951447416166151\n",
      "\n",
      "No se puede calcular en el intervalo [0.1, 4]\n",
      "## Funcion 5 ##\n",
      "\n",
      "La raiz aproximada es: None siendo f(None) = -sqrt(x) + (x - 1)**2\n",
      "\n",
      "No se puede calcular en el intervalo [0.1, 6]\n",
      "## Funcion 6 ##\n",
      "\n",
      "La raiz aproximada es: None siendo f(None) = exp(x) - sin(x)\n",
      "\n"
     ]
    }
   ],
   "source": [
    "# 3. Approximate resolution through the bisection method\n",
    "\n",
    "# Funcion 1 [-1.5, -0.5]\n",
    "root = bisection(f_1, -1.5, -0.5, x1)\n",
    "print(\"## Funcion 1 ##\\n\")\n",
    "print(\"La raiz aproximada es: {} siendo f({}) = {}\\n\".format(root, root, f_1.subs(x1, root)))\n",
    "\n",
    "# Funcion 2 [0.1, 2]\n",
    "root = bisection(f_2, 0.1, 2, x)\n",
    "print(\"## Funcion 2 ##\\n\")\n",
    "print(\"La raiz aproximada es: {} siendo f({}) = {}\\n\".format(root, root, f_2.subs(x, root)))\n",
    "\n",
    "# Funcion 3 [0.1, 2]\n",
    "root = bisection(f_3, 0.1, 2, x)\n",
    "print(\"## Funcion 3 ##\\n\")\n",
    "print(\"La raiz aproximada es: {} siendo f({}) = {}\\n\".format(root, root, f_3.subs(x, root)))\n",
    "\n",
    "# Funcion 4 [0.1, 2]\n",
    "root = bisection(f_4, 0.1, 2, x)\n",
    "print(\"## Funcion 4 ##\\n\")\n",
    "print(\"La raiz aproximada es: {} siendo f({}) = {}\\n\".format(root, root, f_4.subs(x, root)))\n",
    "\n",
    "# Funcion 5 [0.1, 4]\n",
    "root = bisection(f_5, 0.1, 4, x)\n",
    "print(\"## Funcion 5 ##\\n\")\n",
    "print(\"La raiz aproximada es: {} siendo f({}) = {}\\n\".format(root, root, f_5.subs(x, root)))\n",
    "\n",
    "# Funcion 6 [0.1, 6]\n",
    "root = bisection(f_6, 0.1, 6, x)\n",
    "print(\"## Funcion 6 ##\\n\")\n",
    "print(\"La raiz aproximada es: {} siendo f({}) = {}\\n\".format(root, root, f_6.subs(x, root)))"
   ]
  },
  {
   "cell_type": "markdown",
   "metadata": {
    "id": "dg54XGVvHVd8"
   },
   "source": [
    "## Encontrar la temperatura óptima"
   ]
  },
  {
   "cell_type": "markdown",
   "metadata": {
    "id": "X4AFM6rvHVd8"
   },
   "source": [
    "Estamos trabajando en un proyecto cuyo objetivo es cultivar un nuevo cultivo experimental. Se ha observado que existe una clara correlación entre la temperatura a la que se mantiene el cultivo y su calidad final (representada como un único valor, combinación de varias métricas). Después de trabajar durante algún tiempo en el problema, hemos sido capaces de modelizar la relación entre la temperatura $T$ del entorno del cultivo y su calidad a través de la función $f$, dada por:\n",
    "\n",
    "$f(T)=\\max(0, -T^4+10T^3-32T^2+38T+54)$\n",
    "\n",
    "¿Cuál sería la temperatura óptima para maximizar la calidad de nuestra cosecha?"
   ]
  },
  {
   "cell_type": "code",
   "execution_count": null,
   "metadata": {
    "id": "w4aznwcGHVd8"
   },
   "outputs": [],
   "source": [
    "# Code"
   ]
  }
 ],
 "metadata": {
  "colab": {
   "provenance": []
  },
  "kernelspec": {
   "display_name": "Python 3",
   "language": "python",
   "name": "python3"
  },
  "language_info": {
   "codemirror_mode": {
    "name": "ipython",
    "version": 3
   },
   "file_extension": ".py",
   "mimetype": "text/x-python",
   "name": "python",
   "nbconvert_exporter": "python",
   "pygments_lexer": "ipython3",
   "version": "3.11.0"
  },
  "vscode": {
   "interpreter": {
    "hash": "c261aea317cc0286b3b3261fbba9abdec21eaa57589985bb7a274bf54d6cc0a7"
   }
  }
 },
 "nbformat": 4,
 "nbformat_minor": 1
}

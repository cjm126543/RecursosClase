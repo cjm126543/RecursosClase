{
 "cells": [
  {
   "cell_type": "code",
   "execution_count": 56,
   "metadata": {},
   "outputs": [],
   "source": [
    "# Importar librerías necesarias\n",
    "import numpy as np\n",
    "import sympy as sp\n",
    "import sys"
   ]
  },
  {
   "cell_type": "markdown",
   "metadata": {
    "id": "d3o88vUabWXF"
   },
   "source": [
    "# **LAB 5:** Resolución de sistemas de ecuaciones lineales usando Gauss y Gauss-Jordan"
   ]
  },
  {
   "cell_type": "markdown",
   "metadata": {},
   "source": [
    "El objetivo de esta práctica es programar los métodos de resolución directa de sistemas de ecuaciones lineales explicados en clase. \n",
    "\n",
    "Los programas deben recibir la matriz extendida del sistema $[A, b]$ (matriz de coeficientes y la última columna, la matriz de términos independientes).\n",
    "\n",
    "**NOTA** Los métodos a implementar en las secciones 1 y 2 deben lanzar una Excepción si se recibe como entrada un sistema incompatible o compatible indeterminado."
   ]
  },
  {
   "cell_type": "markdown",
   "metadata": {},
   "source": [
    "Resuelve los siguientes sistemas:\n",
    "\n",
    "1.  $\\begin{cases}\n",
    "    2x_1 + 4x_3 = 0\\\\\n",
    "    6x_1 - 3x_2 + 7x_3 = 1\\\\\n",
    "    -4x_1 + 6x_2 + 2x_3 = 3\n",
    "    \\end{cases}$\n",
    "\n",
    "2. $\\begin{cases}\n",
    "    x_2 + x_3 = 1\\\\\n",
    "    2x_1 + x_2 + 6x_3 - 3x_4 = 2\\\\\n",
    "    -4x_1 -x_2 + 5x_3 + 8x_4 = 1\\\\\n",
    "    -6x_1 -x_2 - 16x_3 + 13x_4 = 0\n",
    "    \\end{cases}$\n",
    "\n",
    "3. $\\begin{cases}\n",
    "    6x_1 - 9x_2 + x_3 + 4x_5 = -5\\\\\n",
    "    -2x_1 + 3x_2 - x_3 + 5x_4 + 9x_5 = -24\\\\\n",
    "    x_2 - x_3 + 7x_4 + 2x_5 = -10\\\\\n",
    "    5x_1 - 6x_2 + 8x_3 - x_4 = 5\\\\\n",
    "    3x_1 + 7x_2 - 2x_3 + x_4 + 5x_5 = 2\n",
    "    \\end{cases}$"
   ]
  },
  {
   "cell_type": "markdown",
   "metadata": {},
   "source": [
    "## Comprobación por Roché-Frobenius\n",
    "    - Si Rank(A) <> Rank(A*) --> Incompatible\n",
    "    - Si Rank(A*) == nº incognitas --> Compatible determinado\n",
    "    - Si Rank(A*) < nº incognitas --> Compatible indeterminado"
   ]
  },
  {
   "cell_type": "code",
   "execution_count": 41,
   "metadata": {},
   "outputs": [],
   "source": [
    "def check_rank(A, E):\n",
    "    extended_rank = np.linalg.matrix_rank(E)\n",
    "    if (np.linalg.matrix_rank(A) != extended_rank):\n",
    "        raise ValueError(\"La matriz introducida es incompatible\")\n",
    "    if (extended_rank < A.shape[1]):\n",
    "        raise ValueError(\"La matriz introducida es compatible indeterminado\")"
   ]
  },
  {
   "cell_type": "markdown",
   "metadata": {
    "id": "AC1m4eySbfVC"
   },
   "source": [
    "## 1. Método de Gauss\n",
    "\n",
    "Implementa el método de Gauss para resolver sistemas de ecuaciones lineales explicado en teoría."
   ]
  },
  {
   "cell_type": "code",
   "execution_count": 70,
   "metadata": {
    "id": "3XNimY7kgBuz"
   },
   "outputs": [],
   "source": [
    "def gauss_method(M):\n",
    "    # Comprueba que sea compatible determinado\n",
    "    size = M.shape[1] - 1\n",
    "    try:\n",
    "        check_rank(M[:,range(size)], M)\n",
    "    except ValueError as exception:\n",
    "        print(exception)\n",
    "        return None\n",
    "    \n",
    "    # Cuerpo\n",
    "    sol = np.zeros(size)\n",
    "    \n",
    "    for i in range(size):\n",
    "        if (M[i, i] == 0):\n",
    "            sys.exit(\"Se ha detectado una division por 0\")\n",
    "            \n",
    "        # Metodo de gauss\n",
    "        for j in range(i + 1, size):\n",
    "            for k in range(size + 1):\n",
    "                M[j, k] = M[j, k] - ((M[j, i] / M[i, i]) * M[i, k])\n",
    "    \n",
    "    # El metodo acabo, resolvemos el sistema     \n",
    "    sol[size - 1] = M[size - 1, size] / M[size - 1, size - 1]\n",
    "    for a in range(size - 2, -1, -1):\n",
    "        sol[a] = M[a, size]\n",
    "    \n",
    "        for b in range(a + 1, size):\n",
    "            sol[a] = sol[a] - M[a, b] * sol[b]\n",
    "    \n",
    "        sol[a] = sol[a] / M[a, a]\n",
    "    return sol"
   ]
  },
  {
   "cell_type": "markdown",
   "metadata": {
    "id": "fJD7zBTScD-m"
   },
   "source": [
    "## 2. Método de Gauss-Jordan"
   ]
  },
  {
   "cell_type": "markdown",
   "metadata": {
    "id": "Fhkx2Z_RXEOh"
   },
   "source": [
    "Implementa el método de Gauss-Jordan para resolver sistemas de ecuaciones lineales."
   ]
  },
  {
   "cell_type": "code",
   "execution_count": null,
   "metadata": {},
   "outputs": [],
   "source": [
    "def gauss_jordan_method(M):\n",
    "    # Comprueba que sea compatible determinado\n",
    "    try:\n",
    "        check_rank(M, M[:,range(M.shape[1] - 1)])\n",
    "    except ValueError as exception:\n",
    "        print(exception)\n",
    "        return None\n",
    "    \n",
    "    # Cuerpo\n",
    "    \n",
    "    pass"
   ]
  },
  {
   "cell_type": "markdown",
   "metadata": {},
   "source": [
    "## 4. Cálculo de la inversa de una matriz"
   ]
  },
  {
   "cell_type": "markdown",
   "metadata": {},
   "source": [
    "Programa una función que, dada una matriz $A$, devuelva su matriz inversa $A^{-1}$. Comprueba si funciona con la siguiente matriz:\n",
    "\n",
    "$A = \\begin{pmatrix}\n",
    "    3 & -4 & 1\\\\\n",
    "    2 & -4 & 1\\\\\n",
    "    3 & -5 & 1\n",
    "\\end{pmatrix}$"
   ]
  },
  {
   "cell_type": "code",
   "execution_count": null,
   "metadata": {},
   "outputs": [],
   "source": [
    "def find_inverse(A):\n",
    "    # COMPLETE\n",
    "    pass"
   ]
  },
  {
   "cell_type": "code",
   "execution_count": 81,
   "metadata": {},
   "outputs": [
    {
     "name": "stdout",
     "output_type": "stream",
     "text": [
      "[ -2.05555556  -5.08333333 -27.5         -5.          -1.25      ]\n"
     ]
    }
   ],
   "source": [
    "### Probamos las funciones\n",
    "## Ecuacion 1\n",
    "coef1 = np.array([[2, 0, 4], [6, -3, 7], [-4, 6, 2]])\n",
    "ind1 = np.array([[0], [1], [3]])\n",
    "extended1 = np.hstack((coef1, ind1))\n",
    "aux = np.array(extended1[0])\n",
    "extended1[0] = extended1[2]\n",
    "extended1[2] = aux\n",
    "\n",
    "\n",
    "## Ecuacion 2\n",
    "coef2 = np.array([[0, 1, 1, 0], [2, 1, 6, -3], [-4, -1, 5, 8], [-6, -1, -16, 13]]) \n",
    "ind2 = np.array([[1], [2], [1], [0]])\n",
    "extended2 = np.hstack((coef2, ind2))\n",
    "aux = np.array(extended2[0])\n",
    "extended2[0] = extended2[3]\n",
    "extended2[3] = aux\n",
    "\n",
    "## Ecuacion 3\n",
    "coef3 = np.array([[6, -9, 1, 0, 4], [-2, 3, -1, 5, 9], [0, 1, -1, 7, 2], [5, -6, 8, -1, 0], [3, 7, -2, 1, 5]])\n",
    "ind3 = np.array([[-5], [-24], [-10], [5], [2]])\n",
    "extended3 = np.hstack((coef3, ind3))\n",
    "aux = np.array(extended3[0])\n",
    "extended3[0] = extended3[4]\n",
    "extended3[4] = aux\n",
    " \n",
    "\n",
    "# Pruebas\n",
    "print(gauss_method(extended3))"
   ]
  }
 ],
 "metadata": {
  "colab": {
   "provenance": []
  },
  "kernelspec": {
   "display_name": "Python 3 (ipykernel)",
   "language": "python",
   "name": "python3"
  },
  "language_info": {
   "codemirror_mode": {
    "name": "ipython",
    "version": 3
   },
   "file_extension": ".py",
   "mimetype": "text/x-python",
   "name": "python",
   "nbconvert_exporter": "python",
   "pygments_lexer": "ipython3",
   "version": "3.10.6"
  }
 },
 "nbformat": 4,
 "nbformat_minor": 1
}
